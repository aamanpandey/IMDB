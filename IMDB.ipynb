{
  "nbformat": 4,
  "nbformat_minor": 0,
  "metadata": {
    "kernelspec": {
      "display_name": "Python 3",
      "language": "python",
      "name": "python3"
    },
    "language_info": {
      "codemirror_mode": {
        "name": "ipython",
        "version": 3
      },
      "file_extension": ".py",
      "mimetype": "text/x-python",
      "name": "python",
      "nbconvert_exporter": "python",
      "pygments_lexer": "ipython3",
      "version": "3.7.6"
    },
    "toc": {
      "base_numbering": 1,
      "nav_menu": {},
      "number_sections": true,
      "sideBar": true,
      "skip_h1_title": false,
      "title_cell": "Table of Contents",
      "title_sidebar": "Contents",
      "toc_cell": true,
      "toc_position": {},
      "toc_section_display": true,
      "toc_window_display": true
    },
    "colab": {
      "name": "IMDB.ipynb",
      "provenance": [],
      "toc_visible": true,
      "machine_shape": "hm"
    }
  },
  "cells": [
    {
      "cell_type": "markdown",
      "metadata": {
        "toc": true,
        "id": "65kWJM6N4i-_",
        "colab_type": "text"
      },
      "source": [
        "<h1>Table of Contents<span class=\"tocSkip\"></span></h1>\n",
        "<div class=\"toc\"><ul class=\"toc-item\"><li><span><a href=\"#Loading-IMDB-dataset\" data-toc-modified-id=\"Loading-IMDB-dataset-1\"><span class=\"toc-item-num\">1&nbsp;&nbsp;</span>Loading IMDB dataset</a></span></li><li><span><a href=\"#Encoding-the-review\" data-toc-modified-id=\"Encoding-the-review-2\"><span class=\"toc-item-num\">2&nbsp;&nbsp;</span>Encoding the review</a></span></li><li><span><a href=\"#Preparing-the-data\" data-toc-modified-id=\"Preparing-the-data-3\"><span class=\"toc-item-num\">3&nbsp;&nbsp;</span>Preparing the data</a></span></li><li><span><a href=\"#Model-Defination\" data-toc-modified-id=\"Model-Defination-4\"><span class=\"toc-item-num\">4&nbsp;&nbsp;</span>Model Defination</a></span></li><li><span><a href=\"#Compiling-the-Model\" data-toc-modified-id=\"Compiling-the-Model-5\"><span class=\"toc-item-num\">5&nbsp;&nbsp;</span>Compiling the Model</a></span></li><li><span><a href=\"#Configuring-the-Optimizer\" data-toc-modified-id=\"Configuring-the-Optimizer-6\"><span class=\"toc-item-num\">6&nbsp;&nbsp;</span>Configuring the Optimizer</a></span></li><li><span><a href=\"#Validating\" data-toc-modified-id=\"Validating-7\"><span class=\"toc-item-num\">7&nbsp;&nbsp;</span>Validating</a></span></li><li><span><a href=\"#Training-The-Model\" data-toc-modified-id=\"Training-The-Model-8\"><span class=\"toc-item-num\">8&nbsp;&nbsp;</span>Training The Model</a></span></li><li><span><a href=\"#Plots\" data-toc-modified-id=\"Plots-9\"><span class=\"toc-item-num\">9&nbsp;&nbsp;</span>Plots</a></span><ul class=\"toc-item\"><li><span><a href=\"#Plotting-the-training-and-validation-loss\" data-toc-modified-id=\"Plotting-the-training-and-validation-loss-9.1\"><span class=\"toc-item-num\">9.1&nbsp;&nbsp;</span>Plotting the training and validation loss</a></span></li><li><span><a href=\"#Plotting-the-training-and-validation-accuracy\" data-toc-modified-id=\"Plotting-the-training-and-validation-accuracy-9.2\"><span class=\"toc-item-num\">9.2&nbsp;&nbsp;</span>Plotting the training and validation accuracy</a></span></li></ul></li><li><span><a href=\"#Key-Observation:\" data-toc-modified-id=\"Key-Observation:-10\"><span class=\"toc-item-num\">10&nbsp;&nbsp;</span>Key Observation:</a></span></li><li><span><a href=\"#Corrected-Model\" data-toc-modified-id=\"Corrected-Model-11\"><span class=\"toc-item-num\">11&nbsp;&nbsp;</span>Corrected Model</a></span></li></ul></div>"
      ]
    },
    {
      "cell_type": "markdown",
      "metadata": {
        "id": "KfSRb_8v4i_A",
        "colab_type": "text"
      },
      "source": [
        " IMDB dataset"
      ]
    },
    {
      "cell_type": "markdown",
      "metadata": {
        "id": "cKnIXs5E4i_A",
        "colab_type": "text"
      },
      "source": [
        "# Loading IMDB dataset"
      ]
    },
    {
      "cell_type": "code",
      "metadata": {
        "id": "EM7Al8xr4i_B",
        "colab_type": "code",
        "outputId": "3d5333f9-ba66-481e-f099-9f188f6ff67d",
        "colab": {
          "base_uri": "https://localhost:8080/",
          "height": 69
        }
      },
      "source": [
        "\n",
        "from keras.datasets import imdb\n",
        "(train_data, train_labels), (test_data, test_labels)= imdb.load_data(num_words= 10000)\n",
        "#num_words =10000 means, we will load top 10000 most frequently occuring words in the training data"
      ],
      "execution_count": 0,
      "outputs": [
        {
          "output_type": "stream",
          "text": [
            "Using TensorFlow backend.\n"
          ],
          "name": "stderr"
        },
        {
          "output_type": "stream",
          "text": [
            "Downloading data from https://s3.amazonaws.com/text-datasets/imdb.npz\n",
            "17465344/17464789 [==============================] - 0s 0us/step\n"
          ],
          "name": "stdout"
        }
      ]
    },
    {
      "cell_type": "code",
      "metadata": {
        "id": "a_HmdVRw4i_E",
        "colab_type": "code",
        "outputId": "e5c98d4c-36d7-4992-d5bd-a7aa7a152514",
        "colab": {
          "base_uri": "https://localhost:8080/",
          "height": 1000
        }
      },
      "source": [
        "train_data[0]"
      ],
      "execution_count": 0,
      "outputs": [
        {
          "output_type": "execute_result",
          "data": {
            "text/plain": [
              "[1,\n",
              " 14,\n",
              " 22,\n",
              " 16,\n",
              " 43,\n",
              " 530,\n",
              " 973,\n",
              " 1622,\n",
              " 1385,\n",
              " 65,\n",
              " 458,\n",
              " 4468,\n",
              " 66,\n",
              " 3941,\n",
              " 4,\n",
              " 173,\n",
              " 36,\n",
              " 256,\n",
              " 5,\n",
              " 25,\n",
              " 100,\n",
              " 43,\n",
              " 838,\n",
              " 112,\n",
              " 50,\n",
              " 670,\n",
              " 2,\n",
              " 9,\n",
              " 35,\n",
              " 480,\n",
              " 284,\n",
              " 5,\n",
              " 150,\n",
              " 4,\n",
              " 172,\n",
              " 112,\n",
              " 167,\n",
              " 2,\n",
              " 336,\n",
              " 385,\n",
              " 39,\n",
              " 4,\n",
              " 172,\n",
              " 4536,\n",
              " 1111,\n",
              " 17,\n",
              " 546,\n",
              " 38,\n",
              " 13,\n",
              " 447,\n",
              " 4,\n",
              " 192,\n",
              " 50,\n",
              " 16,\n",
              " 6,\n",
              " 147,\n",
              " 2025,\n",
              " 19,\n",
              " 14,\n",
              " 22,\n",
              " 4,\n",
              " 1920,\n",
              " 4613,\n",
              " 469,\n",
              " 4,\n",
              " 22,\n",
              " 71,\n",
              " 87,\n",
              " 12,\n",
              " 16,\n",
              " 43,\n",
              " 530,\n",
              " 38,\n",
              " 76,\n",
              " 15,\n",
              " 13,\n",
              " 1247,\n",
              " 4,\n",
              " 22,\n",
              " 17,\n",
              " 515,\n",
              " 17,\n",
              " 12,\n",
              " 16,\n",
              " 626,\n",
              " 18,\n",
              " 2,\n",
              " 5,\n",
              " 62,\n",
              " 386,\n",
              " 12,\n",
              " 8,\n",
              " 316,\n",
              " 8,\n",
              " 106,\n",
              " 5,\n",
              " 4,\n",
              " 2223,\n",
              " 5244,\n",
              " 16,\n",
              " 480,\n",
              " 66,\n",
              " 3785,\n",
              " 33,\n",
              " 4,\n",
              " 130,\n",
              " 12,\n",
              " 16,\n",
              " 38,\n",
              " 619,\n",
              " 5,\n",
              " 25,\n",
              " 124,\n",
              " 51,\n",
              " 36,\n",
              " 135,\n",
              " 48,\n",
              " 25,\n",
              " 1415,\n",
              " 33,\n",
              " 6,\n",
              " 22,\n",
              " 12,\n",
              " 215,\n",
              " 28,\n",
              " 77,\n",
              " 52,\n",
              " 5,\n",
              " 14,\n",
              " 407,\n",
              " 16,\n",
              " 82,\n",
              " 2,\n",
              " 8,\n",
              " 4,\n",
              " 107,\n",
              " 117,\n",
              " 5952,\n",
              " 15,\n",
              " 256,\n",
              " 4,\n",
              " 2,\n",
              " 7,\n",
              " 3766,\n",
              " 5,\n",
              " 723,\n",
              " 36,\n",
              " 71,\n",
              " 43,\n",
              " 530,\n",
              " 476,\n",
              " 26,\n",
              " 400,\n",
              " 317,\n",
              " 46,\n",
              " 7,\n",
              " 4,\n",
              " 2,\n",
              " 1029,\n",
              " 13,\n",
              " 104,\n",
              " 88,\n",
              " 4,\n",
              " 381,\n",
              " 15,\n",
              " 297,\n",
              " 98,\n",
              " 32,\n",
              " 2071,\n",
              " 56,\n",
              " 26,\n",
              " 141,\n",
              " 6,\n",
              " 194,\n",
              " 7486,\n",
              " 18,\n",
              " 4,\n",
              " 226,\n",
              " 22,\n",
              " 21,\n",
              " 134,\n",
              " 476,\n",
              " 26,\n",
              " 480,\n",
              " 5,\n",
              " 144,\n",
              " 30,\n",
              " 5535,\n",
              " 18,\n",
              " 51,\n",
              " 36,\n",
              " 28,\n",
              " 224,\n",
              " 92,\n",
              " 25,\n",
              " 104,\n",
              " 4,\n",
              " 226,\n",
              " 65,\n",
              " 16,\n",
              " 38,\n",
              " 1334,\n",
              " 88,\n",
              " 12,\n",
              " 16,\n",
              " 283,\n",
              " 5,\n",
              " 16,\n",
              " 4472,\n",
              " 113,\n",
              " 103,\n",
              " 32,\n",
              " 15,\n",
              " 16,\n",
              " 5345,\n",
              " 19,\n",
              " 178,\n",
              " 32]"
            ]
          },
          "metadata": {
            "tags": []
          },
          "execution_count": 2
        }
      ]
    },
    {
      "cell_type": "code",
      "metadata": {
        "id": "UJyliQYa4i_G",
        "colab_type": "code",
        "outputId": "43344f48-9505-44f9-dbe8-ae2b6ed1cafc",
        "colab": {
          "base_uri": "https://localhost:8080/",
          "height": 1000
        }
      },
      "source": [
        "test_data[0]"
      ],
      "execution_count": 0,
      "outputs": [
        {
          "output_type": "execute_result",
          "data": {
            "text/plain": [
              "[1,\n",
              " 591,\n",
              " 202,\n",
              " 14,\n",
              " 31,\n",
              " 6,\n",
              " 717,\n",
              " 10,\n",
              " 10,\n",
              " 2,\n",
              " 2,\n",
              " 5,\n",
              " 4,\n",
              " 360,\n",
              " 7,\n",
              " 4,\n",
              " 177,\n",
              " 5760,\n",
              " 394,\n",
              " 354,\n",
              " 4,\n",
              " 123,\n",
              " 9,\n",
              " 1035,\n",
              " 1035,\n",
              " 1035,\n",
              " 10,\n",
              " 10,\n",
              " 13,\n",
              " 92,\n",
              " 124,\n",
              " 89,\n",
              " 488,\n",
              " 7944,\n",
              " 100,\n",
              " 28,\n",
              " 1668,\n",
              " 14,\n",
              " 31,\n",
              " 23,\n",
              " 27,\n",
              " 7479,\n",
              " 29,\n",
              " 220,\n",
              " 468,\n",
              " 8,\n",
              " 124,\n",
              " 14,\n",
              " 286,\n",
              " 170,\n",
              " 8,\n",
              " 157,\n",
              " 46,\n",
              " 5,\n",
              " 27,\n",
              " 239,\n",
              " 16,\n",
              " 179,\n",
              " 2,\n",
              " 38,\n",
              " 32,\n",
              " 25,\n",
              " 7944,\n",
              " 451,\n",
              " 202,\n",
              " 14,\n",
              " 6,\n",
              " 717]"
            ]
          },
          "metadata": {
            "tags": []
          },
          "execution_count": 3
        }
      ]
    },
    {
      "cell_type": "markdown",
      "metadata": {
        "id": "ho0kgCQh4i_I",
        "colab_type": "text"
      },
      "source": [
        "# Encoding the review"
      ]
    },
    {
      "cell_type": "code",
      "metadata": {
        "id": "mgFQIEQg4i_I",
        "colab_type": "code",
        "outputId": "03591a19-897f-4f61-fe1d-f7eabf804ad0",
        "colab": {
          "base_uri": "https://localhost:8080/",
          "height": 52
        }
      },
      "source": [
        "word_index = imdb.get_word_index()\n",
        "reverse_word_index = dict([(value,key) for (key, value) in word_index.items()])\n",
        "decoded_review= ' '.join([reverse_word_index.get(i-3, '?') for i in train_data[0] ])\n",
        "#Note that the indices are offset by 3 beacuse 0,1, and 2 are reserved indices for \"padding,\" \"start of sequence\" and \"unknown\""
      ],
      "execution_count": 0,
      "outputs": [
        {
          "output_type": "stream",
          "text": [
            "Downloading data from https://s3.amazonaws.com/text-datasets/imdb_word_index.json\n",
            "1646592/1641221 [==============================] - 0s 0us/step\n"
          ],
          "name": "stdout"
        }
      ]
    },
    {
      "cell_type": "code",
      "metadata": {
        "id": "96cA6ydL4i_L",
        "colab_type": "code",
        "outputId": "dc3d82a0-26c2-41e3-b169-c00ff96c2129",
        "colab": {
          "base_uri": "https://localhost:8080/",
          "height": 55
        }
      },
      "source": [
        "decoded_review"
      ],
      "execution_count": 0,
      "outputs": [
        {
          "output_type": "execute_result",
          "data": {
            "text/plain": [
              "\"? this film was just brilliant casting location scenery story direction everyone's really suited the part they played and you could just imagine being there robert ? is an amazing actor and now the same being director ? father came from the same scottish island as myself so i loved the fact there was a real connection with this film the witty remarks throughout the film were great it was just brilliant so much that i bought the film as soon as it was released for ? and would recommend it to everyone to watch and the fly fishing was amazing really cried at the end it was so sad and you know what they say if you cry at a film it must have been good and this definitely was also ? to the two little boy's that played the ? of norman and paul they were just brilliant children are often left out of the ? list i think because the stars that play them all grown up are such a big profile for the whole film but these children are amazing and should be praised for what they have done don't you think the whole story was so lovely because it was true and was someone's life after all that was shared with us all\""
            ]
          },
          "metadata": {
            "tags": []
          },
          "execution_count": 5
        }
      ]
    },
    {
      "cell_type": "markdown",
      "metadata": {
        "id": "PY6bJVUt4i_N",
        "colab_type": "text"
      },
      "source": [
        "# Preparing the data"
      ]
    },
    {
      "cell_type": "code",
      "metadata": {
        "id": "QJIG2Jm94i_N",
        "colab_type": "code",
        "colab": {}
      },
      "source": [
        "#encoding the integer sequnces into a binary matrix\n",
        "import numpy as np \n",
        "def vectorize_sequences(sequences, dimension= 10000):\n",
        "    results= np.zeros((len(sequences), dimension))\n",
        "    for i, sequence in enumerate(sequences):\n",
        "        results[i, sequence]= 1\n",
        "    return results\n",
        "x_train= vectorize_sequences(train_data)\n",
        "x_test= vectorize_sequences(test_data)"
      ],
      "execution_count": 0,
      "outputs": []
    },
    {
      "cell_type": "code",
      "metadata": {
        "id": "wlNz4Kmr4i_P",
        "colab_type": "code",
        "outputId": "cd7bf530-f90e-4ae7-ebd5-a05159845ccc",
        "colab": {
          "base_uri": "https://localhost:8080/",
          "height": 35
        }
      },
      "source": [
        "x_train[0]"
      ],
      "execution_count": 0,
      "outputs": [
        {
          "output_type": "execute_result",
          "data": {
            "text/plain": [
              "array([0., 1., 1., ..., 0., 0., 0.])"
            ]
          },
          "metadata": {
            "tags": []
          },
          "execution_count": 7
        }
      ]
    },
    {
      "cell_type": "code",
      "metadata": {
        "id": "EuiN60j04i_S",
        "colab_type": "code",
        "colab": {}
      },
      "source": [
        "y_train= np.asarray(train_labels).astype('float32')\n",
        "y_test= np.asarray(test_labels).astype('float32')"
      ],
      "execution_count": 0,
      "outputs": []
    },
    {
      "cell_type": "markdown",
      "metadata": {
        "id": "6XLvWccd4i_T",
        "colab_type": "text"
      },
      "source": [
        "# Model Defination"
      ]
    },
    {
      "cell_type": "code",
      "metadata": {
        "id": "bNagL3R44i_U",
        "colab_type": "code",
        "colab": {}
      },
      "source": [
        "from keras import models\n",
        "from keras import layers\n",
        "from keras import regularizers\n",
        "model = models.Sequential()\n",
        "model.add(layers.Dense(16, kernel_regularizer = regularizers.l2(0.001), activation='relu', input_shape=(10000,)))\n",
        "model.add(layers.Dense(16, kernel_regularizer=regularizers.l2(0.001), activation='relu'))\n",
        "model.add(layers.Dense(1, activation='sigmoid'))"
      ],
      "execution_count": 0,
      "outputs": []
    },
    {
      "cell_type": "code",
      "metadata": {
        "id": "3UryFumgGCtW",
        "colab_type": "code",
        "outputId": "512c5c62-e1f1-4e4d-b0bd-b5eed2a6a42b",
        "colab": {
          "base_uri": "https://localhost:8080/",
          "height": 260
        }
      },
      "source": [
        "model.summary()"
      ],
      "execution_count": 0,
      "outputs": [
        {
          "output_type": "stream",
          "text": [
            "Model: \"sequential_1\"\n",
            "_________________________________________________________________\n",
            "Layer (type)                 Output Shape              Param #   \n",
            "=================================================================\n",
            "dense_1 (Dense)              (None, 16)                160016    \n",
            "_________________________________________________________________\n",
            "dense_2 (Dense)              (None, 16)                272       \n",
            "_________________________________________________________________\n",
            "dense_3 (Dense)              (None, 1)                 17        \n",
            "=================================================================\n",
            "Total params: 160,305\n",
            "Trainable params: 160,305\n",
            "Non-trainable params: 0\n",
            "_________________________________________________________________\n"
          ],
          "name": "stdout"
        }
      ]
    },
    {
      "cell_type": "markdown",
      "metadata": {
        "id": "gv3zPPZY4i_V",
        "colab_type": "text"
      },
      "source": [
        "# Compiling the Model"
      ]
    },
    {
      "cell_type": "code",
      "metadata": {
        "id": "K8lTxmKO4i_W",
        "colab_type": "code",
        "colab": {}
      },
      "source": [
        "model.compile(optimizer='rmsprop', loss='binary_crossentropy', metrics=['accuracy'])"
      ],
      "execution_count": 0,
      "outputs": []
    },
    {
      "cell_type": "markdown",
      "metadata": {
        "id": "9g9q9fcn4i_X",
        "colab_type": "text"
      },
      "source": [
        "# Configuring the Optimizer"
      ]
    },
    {
      "cell_type": "code",
      "metadata": {
        "id": "AYztmxQB4i_Y",
        "colab_type": "code",
        "colab": {}
      },
      "source": [
        "from keras import optimizers\n",
        "\n",
        "model.compile(optimizer=optimizers.RMSprop(lr=0.001), loss='binary_crossentropy', metrics=['accuracy'])"
      ],
      "execution_count": 0,
      "outputs": []
    },
    {
      "cell_type": "code",
      "metadata": {
        "id": "PR7_LZDP4i_Z",
        "colab_type": "code",
        "colab": {}
      },
      "source": [
        "#Using custom losses and metrics"
      ],
      "execution_count": 0,
      "outputs": []
    },
    {
      "cell_type": "code",
      "metadata": {
        "id": "Z9h2467f4i_b",
        "colab_type": "code",
        "colab": {}
      },
      "source": [
        "from keras import losses\n",
        "from keras import metrics\n",
        "\n",
        "model.compile(optimizer=optimizers.RMSprop(lr=0.001), loss=losses.binary_crossentropy, metrics=[metrics.binary_accuracy])"
      ],
      "execution_count": 0,
      "outputs": []
    },
    {
      "cell_type": "markdown",
      "metadata": {
        "id": "mYVJqU8J4i_d",
        "colab_type": "text"
      },
      "source": [
        "# Validating\n"
      ]
    },
    {
      "cell_type": "code",
      "metadata": {
        "id": "xlon3geS4i_d",
        "colab_type": "code",
        "colab": {}
      },
      "source": [
        "#listing aside a validation set\n",
        "x_val= x_train[:10000]\n",
        "partial_x_train= x_train[10000:]\n",
        "y_val= y_train[:10000]\n",
        "partial_y_train= y_train[10000:]"
      ],
      "execution_count": 0,
      "outputs": []
    },
    {
      "cell_type": "markdown",
      "metadata": {
        "id": "gSCMc4mx4i_f",
        "colab_type": "text"
      },
      "source": [
        "# Training The Model"
      ]
    },
    {
      "cell_type": "code",
      "metadata": {
        "id": "3gTgxLm34i_f",
        "colab_type": "code",
        "outputId": "92128930-7a43-484e-d809-5f6e1d328a82",
        "colab": {
          "base_uri": "https://localhost:8080/",
          "height": 748
        }
      },
      "source": [
        "model.compile(optimizer='rmsprop', loss='binary_crossentropy', metrics=['acc'])\n",
        "history= model.fit(partial_x_train, partial_y_train, epochs=20, batch_size=512, validation_data=(x_val, y_val))"
      ],
      "execution_count": 0,
      "outputs": [
        {
          "output_type": "stream",
          "text": [
            "Train on 15000 samples, validate on 10000 samples\n",
            "Epoch 1/20\n",
            "15000/15000 [==============================] - 2s 131us/step - loss: 0.5682 - acc: 0.7739 - val_loss: 0.4553 - val_acc: 0.8360\n",
            "Epoch 2/20\n",
            "15000/15000 [==============================] - 2s 107us/step - loss: 0.3601 - acc: 0.8989 - val_loss: 0.3753 - val_acc: 0.8711\n",
            "Epoch 3/20\n",
            "15000/15000 [==============================] - 2s 108us/step - loss: 0.2864 - acc: 0.9225 - val_loss: 0.3526 - val_acc: 0.8793\n",
            "Epoch 4/20\n",
            "15000/15000 [==============================] - 2s 107us/step - loss: 0.2554 - acc: 0.9344 - val_loss: 0.3410 - val_acc: 0.8831\n",
            "Epoch 5/20\n",
            "15000/15000 [==============================] - 2s 106us/step - loss: 0.2325 - acc: 0.9406 - val_loss: 0.3431 - val_acc: 0.8836\n",
            "Epoch 6/20\n",
            "15000/15000 [==============================] - 2s 108us/step - loss: 0.2197 - acc: 0.9468 - val_loss: 0.3381 - val_acc: 0.8856\n",
            "Epoch 7/20\n",
            "15000/15000 [==============================] - 2s 111us/step - loss: 0.2052 - acc: 0.9525 - val_loss: 0.3449 - val_acc: 0.8864\n",
            "Epoch 8/20\n",
            "15000/15000 [==============================] - 2s 110us/step - loss: 0.1971 - acc: 0.9549 - val_loss: 0.3532 - val_acc: 0.8841\n",
            "Epoch 9/20\n",
            "15000/15000 [==============================] - 2s 108us/step - loss: 0.1891 - acc: 0.9597 - val_loss: 0.4347 - val_acc: 0.8592\n",
            "Epoch 10/20\n",
            "15000/15000 [==============================] - 2s 108us/step - loss: 0.1762 - acc: 0.9659 - val_loss: 0.3720 - val_acc: 0.8826\n",
            "Epoch 11/20\n",
            "15000/15000 [==============================] - 2s 108us/step - loss: 0.1776 - acc: 0.9632 - val_loss: 0.4146 - val_acc: 0.8693\n",
            "Epoch 12/20\n",
            "15000/15000 [==============================] - 2s 109us/step - loss: 0.1714 - acc: 0.9650 - val_loss: 0.4179 - val_acc: 0.8675\n",
            "Epoch 13/20\n",
            "15000/15000 [==============================] - 2s 106us/step - loss: 0.1653 - acc: 0.9682 - val_loss: 0.3968 - val_acc: 0.8766\n",
            "Epoch 14/20\n",
            "15000/15000 [==============================] - 2s 105us/step - loss: 0.1624 - acc: 0.9680 - val_loss: 0.4043 - val_acc: 0.8762\n",
            "Epoch 15/20\n",
            "15000/15000 [==============================] - 2s 105us/step - loss: 0.1615 - acc: 0.9675 - val_loss: 0.4262 - val_acc: 0.8714\n",
            "Epoch 16/20\n",
            "15000/15000 [==============================] - 2s 106us/step - loss: 0.1576 - acc: 0.9701 - val_loss: 0.4427 - val_acc: 0.8652\n",
            "Epoch 17/20\n",
            "15000/15000 [==============================] - 2s 107us/step - loss: 0.1463 - acc: 0.9751 - val_loss: 0.4370 - val_acc: 0.8713\n",
            "Epoch 18/20\n",
            "15000/15000 [==============================] - 2s 107us/step - loss: 0.1530 - acc: 0.9705 - val_loss: 0.4674 - val_acc: 0.8635\n",
            "Epoch 19/20\n",
            "15000/15000 [==============================] - 2s 106us/step - loss: 0.1465 - acc: 0.9738 - val_loss: 0.4384 - val_acc: 0.8711\n",
            "Epoch 20/20\n",
            "15000/15000 [==============================] - 2s 106us/step - loss: 0.1477 - acc: 0.9724 - val_loss: 0.4447 - val_acc: 0.8709\n"
          ],
          "name": "stdout"
        }
      ]
    },
    {
      "cell_type": "code",
      "metadata": {
        "id": "LJH4bk2OFuqH",
        "colab_type": "code",
        "outputId": "7c715f8c-71be-4983-9082-eaedc8ee5208",
        "colab": {
          "base_uri": "https://localhost:8080/",
          "height": 35
        }
      },
      "source": [
        "history.history.keys()"
      ],
      "execution_count": 0,
      "outputs": [
        {
          "output_type": "execute_result",
          "data": {
            "text/plain": [
              "dict_keys(['val_loss', 'val_acc', 'loss', 'acc'])"
            ]
          },
          "metadata": {
            "tags": []
          },
          "execution_count": 34
        }
      ]
    },
    {
      "cell_type": "code",
      "metadata": {
        "id": "5mfwQzLTFmUw",
        "colab_type": "code",
        "outputId": "bbd2acae-c36c-4ffe-a888-95a2bf546672",
        "colab": {
          "base_uri": "https://localhost:8080/",
          "height": 324
        }
      },
      "source": [
        "import pandas as pd\n",
        "\n",
        "pd.DataFrame(history.history).plot(figsize=(8, 5))\n",
        "plt.grid(True)\n",
        "plt.gca().set_ylim(0, 1)\n",
        "plt.show()"
      ],
      "execution_count": 0,
      "outputs": [
        {
          "output_type": "display_data",
          "data": {
            "image/png": "[encoded data removed]",
            "text/plain": [
              "<Figure size 576x360 with 1 Axes>"
            ]
          },
          "metadata": {
            "tags": [],
            "needs_background": "light"
          }
        }
      ]
    },
    {
      "cell_type": "markdown",
      "metadata": {
        "id": "0pgbkxJN4i_h",
        "colab_type": "text"
      },
      "source": [
        "# Plots"
      ]
    },
    {
      "cell_type": "markdown",
      "metadata": {
        "id": "434irYtQ4i_i",
        "colab_type": "text"
      },
      "source": [
        "## Plotting the training and validation loss"
      ]
    },
    {
      "cell_type": "code",
      "metadata": {
        "id": "l4xBXZcX4i_i",
        "colab_type": "code",
        "outputId": "6142dc03-b567-416a-9ac5-35ba87b507c8",
        "colab": {
          "base_uri": "https://localhost:8080/",
          "height": 295
        }
      },
      "source": [
        "import matplotlib.pyplot as plt\n",
        "\n",
        "history_dict= history.history\n",
        "loss_values=history_dict['loss']\n",
        "val_loss_values= history_dict['val_loss']\n",
        "acc= history_dict['acc']\n",
        "epochs= range(1, len(acc)+1)\n",
        "plt.plot(epochs, loss_values, 'bo', label='Training loss')\n",
        "plt.plot(epochs, val_loss_values, 'b', label='Validation loss')\n",
        "plt.title('Training and Validation Loss')\n",
        "plt.xlabel('Epochs')\n",
        "plt.ylabel('Loss')\n",
        "plt.legend()\n",
        "plt.show()"
      ],
      "execution_count": 0,
      "outputs": [
        {
          "output_type": "display_data",
          "data": {
            "image/png": "[encoded data removed]",
            "text/plain": [
              "<Figure size 432x288 with 1 Axes>"
            ]
          },
          "metadata": {
            "tags": [],
            "needs_background": "light"
          }
        }
      ]
    },
    {
      "cell_type": "markdown",
      "metadata": {
        "id": "h9EfCIlf4i_k",
        "colab_type": "text"
      },
      "source": [
        "## Plotting the training and validation accuracy"
      ]
    },
    {
      "cell_type": "code",
      "metadata": {
        "id": "eF3O4lmO4i_l",
        "colab_type": "code",
        "outputId": "0c33459a-daa0-4b3c-f8b6-db05733d0576",
        "colab": {
          "base_uri": "https://localhost:8080/",
          "height": 295
        }
      },
      "source": [
        "#plt.clf()\n",
        "acc=history_dict['acc']\n",
        "val_acc= history_dict['val_acc']\n",
        "plt.plot(epochs, acc, 'bo', label='Training acc')\n",
        "plt.plot(epochs, val_acc, 'b', label='Validation acc')\n",
        "plt.title('Training and Validation Accuracy')\n",
        "plt.xlabel('Epochs')\n",
        "plt.ylabel('Loss')\n",
        "plt.legend()\n",
        "plt.show()"
      ],
      "execution_count": 0,
      "outputs": [
        {
          "output_type": "display_data",
          "data": {
            "image/png": "[encoded data removed]",
            "text/plain": [
              "<Figure size 432x288 with 1 Axes>"
            ]
          },
          "metadata": {
            "tags": [],
            "needs_background": "light"
          }
        }
      ]
    },
    {
      "cell_type": "markdown",
      "metadata": {
        "id": "6ea7P0sh4i_m",
        "colab_type": "text"
      },
      "source": [
        "# Key Observation:"
      ]
    },
    {
      "cell_type": "markdown",
      "metadata": {
        "id": "PDwp3M9O4i_n",
        "colab_type": "text"
      },
      "source": [
        "- We can see that training loss decreases as number of epoch increase\n",
        "- The tarining Accuracy decreases with increase in number of epochs\n",
        "- Validation loss and validation accuracy is at peak at 4th epoch\n",
        "- Model is overfitting"
      ]
    },
    {
      "cell_type": "markdown",
      "metadata": {
        "id": "Zk9MmC5-4i_n",
        "colab_type": "text"
      },
      "source": [
        "Recommendation:\n",
        "    -stop the training after 3rd epoch"
      ]
    },
    {
      "cell_type": "markdown",
      "metadata": {
        "id": "OR2u-qUh4i_n",
        "colab_type": "text"
      },
      "source": [
        "# Corrected Model"
      ]
    },
    {
      "cell_type": "code",
      "metadata": {
        "id": "DeA9rzJX4i_o",
        "colab_type": "code",
        "outputId": "a5240f99-b5aa-4f4e-d118-34b09d35ed60",
        "colab": {
          "base_uri": "https://localhost:8080/",
          "height": 159
        }
      },
      "source": [
        "model.compile(optimizer='rmsprop', loss='binary_crossentropy', metrics=['acc'])\n",
        "history1= model.fit(partial_x_train, partial_y_train, epochs=3, batch_size=512, validation_data=(x_val, y_val))"
      ],
      "execution_count": 0,
      "outputs": [
        {
          "output_type": "stream",
          "text": [
            "Train on 15000 samples, validate on 10000 samples\n",
            "Epoch 1/3\n",
            "15000/15000 [==============================] - 2s 114us/step - loss: 0.1775 - acc: 0.9594 - val_loss: 0.4439 - val_acc: 0.8697\n",
            "Epoch 2/3\n",
            "15000/15000 [==============================] - 2s 105us/step - loss: 0.1385 - acc: 0.9763 - val_loss: 0.5040 - val_acc: 0.8577\n",
            "Epoch 3/3\n",
            "15000/15000 [==============================] - 2s 105us/step - loss: 0.1504 - acc: 0.9682 - val_loss: 0.4628 - val_acc: 0.8692\n"
          ],
          "name": "stdout"
        }
      ]
    },
    {
      "cell_type": "markdown",
      "metadata": {
        "id": "7M1nZ0KyRy_R",
        "colab_type": "text"
      },
      "source": [
        "#Dealing with Overfitting issues\n",
        "\n"
      ]
    },
    {
      "cell_type": "code",
      "metadata": {
        "id": "x6Cy_xb4R-Bx",
        "colab_type": "code",
        "colab": {}
      },
      "source": [
        ""
      ],
      "execution_count": 0,
      "outputs": []
    },
    {
      "cell_type": "markdown",
      "metadata": {
        "id": "Ju7V_kmdSCQR",
        "colab_type": "text"
      },
      "source": [
        "## Reducing Network Size"
      ]
    },
    {
      "cell_type": "code",
      "metadata": {
        "id": "pbH5ZKalRqJa",
        "colab_type": "code",
        "outputId": "727c5c64-1059-4dea-b78a-c561e494c96e",
        "colab": {
          "base_uri": "https://localhost:8080/",
          "height": 748
        }
      },
      "source": [
        "from keras import models\n",
        "from keras import layers\n",
        "from keras import regularizers\n",
        "model1 = models.Sequential()\n",
        "model1.add(layers.Dense(4, activation='relu', input_shape=(10000,)))\n",
        "model1.add(layers.Dense(4,  activation='relu'))\n",
        "model1.add(layers.Dense(1, activation='sigmoid'))\n",
        "model1.compile(optimizer='rmsprop', loss='binary_crossentropy', metrics=['accuracy'])\n",
        "from keras import optimizers\n",
        "\n",
        "model1.compile(optimizer=optimizers.RMSprop(lr=0.001), loss='binary_crossentropy', metrics=['accuracy'])\n",
        "model1.compile(optimizer='rmsprop', loss='binary_crossentropy', metrics=['acc'])\n",
        "history1= model1.fit(partial_x_train, partial_y_train, epochs=20, batch_size=512, validation_data=(x_val, y_val))"
      ],
      "execution_count": 0,
      "outputs": [
        {
          "output_type": "stream",
          "text": [
            "Train on 15000 samples, validate on 10000 samples\n",
            "Epoch 1/20\n",
            "15000/15000 [==============================] - 2s 109us/step - loss: 0.6676 - acc: 0.6826 - val_loss: 0.6330 - val_acc: 0.7984\n",
            "Epoch 2/20\n",
            "15000/15000 [==============================] - 2s 105us/step - loss: 0.5971 - acc: 0.8336 - val_loss: 0.5693 - val_acc: 0.8450\n",
            "Epoch 3/20\n",
            "15000/15000 [==============================] - 2s 104us/step - loss: 0.5272 - acc: 0.8733 - val_loss: 0.5068 - val_acc: 0.8538\n",
            "Epoch 4/20\n",
            "15000/15000 [==============================] - 2s 104us/step - loss: 0.4607 - acc: 0.8837 - val_loss: 0.4528 - val_acc: 0.8654\n",
            "Epoch 5/20\n",
            "15000/15000 [==============================] - 2s 105us/step - loss: 0.4019 - acc: 0.8933 - val_loss: 0.4041 - val_acc: 0.8727\n",
            "Epoch 6/20\n",
            "15000/15000 [==============================] - 2s 104us/step - loss: 0.3495 - acc: 0.9027 - val_loss: 0.3648 - val_acc: 0.8775\n",
            "Epoch 7/20\n",
            "15000/15000 [==============================] - 2s 104us/step - loss: 0.3060 - acc: 0.9102 - val_loss: 0.3343 - val_acc: 0.8810\n",
            "Epoch 8/20\n",
            "15000/15000 [==============================] - 2s 105us/step - loss: 0.2702 - acc: 0.9183 - val_loss: 0.3157 - val_acc: 0.8819\n",
            "Epoch 9/20\n",
            "15000/15000 [==============================] - 2s 104us/step - loss: 0.2420 - acc: 0.9243 - val_loss: 0.2963 - val_acc: 0.8897\n",
            "Epoch 10/20\n",
            "15000/15000 [==============================] - 2s 104us/step - loss: 0.2188 - acc: 0.9310 - val_loss: 0.2856 - val_acc: 0.8917\n",
            "Epoch 11/20\n",
            "15000/15000 [==============================] - 2s 103us/step - loss: 0.1996 - acc: 0.9373 - val_loss: 0.2783 - val_acc: 0.8920\n",
            "Epoch 12/20\n",
            "15000/15000 [==============================] - 2s 105us/step - loss: 0.1832 - acc: 0.9417 - val_loss: 0.2742 - val_acc: 0.8913\n",
            "Epoch 13/20\n",
            "15000/15000 [==============================] - 2s 104us/step - loss: 0.1688 - acc: 0.9471 - val_loss: 0.2739 - val_acc: 0.8924\n",
            "Epoch 14/20\n",
            "15000/15000 [==============================] - 2s 103us/step - loss: 0.1562 - acc: 0.9511 - val_loss: 0.2713 - val_acc: 0.8924\n",
            "Epoch 15/20\n",
            "15000/15000 [==============================] - 2s 104us/step - loss: 0.1448 - acc: 0.9549 - val_loss: 0.2724 - val_acc: 0.8919\n",
            "Epoch 16/20\n",
            "15000/15000 [==============================] - 2s 106us/step - loss: 0.1343 - acc: 0.9593 - val_loss: 0.2797 - val_acc: 0.8903\n",
            "Epoch 17/20\n",
            "15000/15000 [==============================] - 2s 103us/step - loss: 0.1247 - acc: 0.9621 - val_loss: 0.2791 - val_acc: 0.8900\n",
            "Epoch 18/20\n",
            "15000/15000 [==============================] - 2s 103us/step - loss: 0.1159 - acc: 0.9651 - val_loss: 0.2840 - val_acc: 0.8889\n",
            "Epoch 19/20\n",
            "15000/15000 [==============================] - 2s 104us/step - loss: 0.1078 - acc: 0.9687 - val_loss: 0.2883 - val_acc: 0.8886\n",
            "Epoch 20/20\n",
            "15000/15000 [==============================] - 2s 104us/step - loss: 0.1006 - acc: 0.9716 - val_loss: 0.2955 - val_acc: 0.8867\n"
          ],
          "name": "stdout"
        }
      ]
    },
    {
      "cell_type": "code",
      "metadata": {
        "id": "kYyWgFe1YaDM",
        "colab_type": "code",
        "outputId": "424a228a-6260-4d38-ff5d-8df13883502b",
        "colab": {
          "base_uri": "https://localhost:8080/",
          "height": 295
        }
      },
      "source": [
        "history_dict= history.history\n",
        "history_dict1= history1.history\n",
        "loss_values=history_dict['val_loss']\n",
        "val_loss_values= history_dict1['val_loss']\n",
        "acc= history_dict['acc']\n",
        "epochs= range(1, len(acc)+1)\n",
        "plt.plot(epochs, loss_values, 'bo', label='Original Model')\n",
        "plt.plot(epochs, val_loss_values, 'b', label='New Model')\n",
        "plt.title('Effect of Reducing Network Size on Validation Loss')\n",
        "plt.xlabel('Epochs')\n",
        "plt.ylabel('Loss')\n",
        "plt.legend()\n",
        "plt.show()"
      ],
      "execution_count": 0,
      "outputs": [
        {
          "output_type": "display_data",
          "data": {
            "image/png": "[encoded data removed]",
            "text/plain": [
              "<Figure size 432x288 with 1 Axes>"
            ]
          },
          "metadata": {
            "tags": [],
            "needs_background": "light"
          }
        }
      ]
    },
    {
      "cell_type": "markdown",
      "metadata": {
        "id": "ZZfAENu3STd_",
        "colab_type": "text"
      },
      "source": [
        "## Adding Weight Regularization"
      ]
    },
    {
      "cell_type": "markdown",
      "metadata": {
        "id": "_8uzlPqiSj3e",
        "colab_type": "text"
      },
      "source": [
        "### L1 Regularization"
      ]
    },
    {
      "cell_type": "code",
      "metadata": {
        "id": "yWsbEWZtT7uW",
        "colab_type": "code",
        "colab": {}
      },
      "source": [
        "#Cost added is proportional to absolute value of the weight coefficients"
      ],
      "execution_count": 0,
      "outputs": []
    },
    {
      "cell_type": "code",
      "metadata": {
        "id": "ioLOhnLpQ-eJ",
        "colab_type": "code",
        "outputId": "992a0360-2459-4f84-88e4-40c1f1580da5",
        "colab": {
          "base_uri": "https://localhost:8080/",
          "height": 748
        }
      },
      "source": [
        "from keras import models\n",
        "from keras import layers\n",
        "from keras import regularizers\n",
        "model2 = models.Sequential()\n",
        "model2.add(layers.Dense(16, kernel_regularizer = regularizers.l1(0.001), activation='relu', input_shape=(10000,)))\n",
        "model2.add(layers.Dense(16, kernel_regularizer=regularizers.l1(0.001), activation='relu'))\n",
        "model2.add(layers.Dense(1, activation='sigmoid'))\n",
        "model2.compile(optimizer='rmsprop', loss='binary_crossentropy', metrics=['accuracy'])\n",
        "from keras import optimizers\n",
        "\n",
        "model2.compile(optimizer=optimizers.RMSprop(lr=0.001), loss='binary_crossentropy', metrics=['accuracy'])\n",
        "model2.compile(optimizer='rmsprop', loss='binary_crossentropy', metrics=['acc'])\n",
        "history2= model2.fit(partial_x_train, partial_y_train, epochs=20, batch_size=512, validation_data=(x_val, y_val))"
      ],
      "execution_count": 0,
      "outputs": [
        {
          "output_type": "stream",
          "text": [
            "Train on 15000 samples, validate on 10000 samples\n",
            "Epoch 1/20\n",
            "15000/15000 [==============================] - 2s 112us/step - loss: 1.0808 - acc: 0.7484 - val_loss: 0.7458 - val_acc: 0.7531\n",
            "Epoch 2/20\n",
            "15000/15000 [==============================] - 2s 109us/step - loss: 0.6609 - acc: 0.8395 - val_loss: 0.6427 - val_acc: 0.8502\n",
            "Epoch 3/20\n",
            "15000/15000 [==============================] - 2s 110us/step - loss: 0.6107 - acc: 0.8560 - val_loss: 0.5953 - val_acc: 0.8627\n",
            "Epoch 4/20\n",
            "15000/15000 [==============================] - 2s 106us/step - loss: 0.5808 - acc: 0.8609 - val_loss: 0.5740 - val_acc: 0.8646\n",
            "Epoch 5/20\n",
            "15000/15000 [==============================] - 2s 105us/step - loss: 0.5562 - acc: 0.8691 - val_loss: 0.6146 - val_acc: 0.8304\n",
            "Epoch 6/20\n",
            "15000/15000 [==============================] - 2s 104us/step - loss: 0.5468 - acc: 0.8713 - val_loss: 0.6228 - val_acc: 0.8247\n",
            "Epoch 7/20\n",
            "15000/15000 [==============================] - 2s 105us/step - loss: 0.5372 - acc: 0.8727 - val_loss: 0.6203 - val_acc: 0.8212\n",
            "Epoch 8/20\n",
            "15000/15000 [==============================] - 2s 105us/step - loss: 0.5340 - acc: 0.8692 - val_loss: 0.5360 - val_acc: 0.8701\n",
            "Epoch 9/20\n",
            "15000/15000 [==============================] - 2s 107us/step - loss: 0.5242 - acc: 0.8729 - val_loss: 0.5890 - val_acc: 0.8400\n",
            "Epoch 10/20\n",
            "15000/15000 [==============================] - 2s 105us/step - loss: 0.5166 - acc: 0.8749 - val_loss: 0.5337 - val_acc: 0.8714\n",
            "Epoch 11/20\n",
            "15000/15000 [==============================] - 2s 106us/step - loss: 0.5128 - acc: 0.8783 - val_loss: 0.5337 - val_acc: 0.8704\n",
            "Epoch 12/20\n",
            "15000/15000 [==============================] - 2s 109us/step - loss: 0.5090 - acc: 0.8789 - val_loss: 0.5364 - val_acc: 0.8681\n",
            "Epoch 13/20\n",
            "15000/15000 [==============================] - 2s 108us/step - loss: 0.5040 - acc: 0.8787 - val_loss: 0.5491 - val_acc: 0.8556\n",
            "Epoch 14/20\n",
            "15000/15000 [==============================] - 2s 109us/step - loss: 0.4984 - acc: 0.8853 - val_loss: 0.5355 - val_acc: 0.8622\n",
            "Epoch 15/20\n",
            "15000/15000 [==============================] - 2s 112us/step - loss: 0.4981 - acc: 0.8818 - val_loss: 0.5197 - val_acc: 0.8748\n",
            "Epoch 16/20\n",
            "15000/15000 [==============================] - 2s 110us/step - loss: 0.4936 - acc: 0.8847 - val_loss: 0.5142 - val_acc: 0.8772\n",
            "Epoch 17/20\n",
            "15000/15000 [==============================] - 2s 110us/step - loss: 0.4892 - acc: 0.8870 - val_loss: 0.5403 - val_acc: 0.8585\n",
            "Epoch 18/20\n",
            "15000/15000 [==============================] - 2s 110us/step - loss: 0.4848 - acc: 0.8844 - val_loss: 0.5165 - val_acc: 0.8766\n",
            "Epoch 19/20\n",
            "15000/15000 [==============================] - 2s 111us/step - loss: 0.4785 - acc: 0.8900 - val_loss: 0.5144 - val_acc: 0.8737\n",
            "Epoch 20/20\n",
            "15000/15000 [==============================] - 2s 111us/step - loss: 0.4823 - acc: 0.8881 - val_loss: 0.5507 - val_acc: 0.8537\n"
          ],
          "name": "stdout"
        }
      ]
    },
    {
      "cell_type": "code",
      "metadata": {
        "id": "AkBBw6qpZucG",
        "colab_type": "code",
        "outputId": "a384bb66-a8f3-45e0-e618-a3d0b75e28b0",
        "colab": {
          "base_uri": "https://localhost:8080/",
          "height": 295
        }
      },
      "source": [
        "history_dict= history.history\n",
        "history_dict1= history2.history\n",
        "loss_values=history_dict['val_loss']\n",
        "val_loss_values= history_dict1['val_loss']\n",
        "acc= history_dict['acc']\n",
        "epochs= range(1, len(acc)+1)\n",
        "plt.plot(epochs, loss_values, 'bo', label='Original Model')\n",
        "plt.plot(epochs, val_loss_values, 'b', label='New Model')\n",
        "plt.title('Effect of L1 Regularization on Validation Loss')\n",
        "plt.xlabel('Epochs')\n",
        "plt.ylabel('Loss')\n",
        "plt.legend()\n",
        "plt.show()"
      ],
      "execution_count": 0,
      "outputs": [
        {
          "output_type": "display_data",
          "data": {
            "image/png": "[encoded data removed]",
            "text/plain": [
              "<Figure size 432x288 with 1 Axes>"
            ]
          },
          "metadata": {
            "tags": [],
            "needs_background": "light"
          }
        }
      ]
    },
    {
      "cell_type": "markdown",
      "metadata": {
        "id": "kNO6WFtkSqBU",
        "colab_type": "text"
      },
      "source": [
        "### L2 Regularization\n"
      ]
    },
    {
      "cell_type": "code",
      "metadata": {
        "id": "kj08IyPxUPae",
        "colab_type": "code",
        "colab": {}
      },
      "source": [
        "#Cost added is proportional to the square of the value of the weight coefficients"
      ],
      "execution_count": 0,
      "outputs": []
    },
    {
      "cell_type": "code",
      "metadata": {
        "id": "Zcjplu4bQ-h7",
        "colab_type": "code",
        "outputId": "d73d3168-61ce-4ab6-8f2b-4264d9781936",
        "colab": {
          "base_uri": "https://localhost:8080/",
          "height": 748
        }
      },
      "source": [
        "from keras import models\n",
        "from keras import layers\n",
        "from keras import regularizers\n",
        "model3 = models.Sequential()\n",
        "model3.add(layers.Dense(16, kernel_regularizer = regularizers.l2(0.001), activation='relu', input_shape=(10000,)))\n",
        "model3.add(layers.Dense(16, kernel_regularizer=regularizers.l2(0.001), activation='relu'))\n",
        "model3.add(layers.Dense(1, activation='sigmoid'))\n",
        "model3.compile(optimizer='rmsprop', loss='binary_crossentropy', metrics=['accuracy'])\n",
        "from keras import optimizers\n",
        "\n",
        "model3.compile(optimizer=optimizers.RMSprop(lr=0.001), loss='binary_crossentropy', metrics=['accuracy'])\n",
        "model3.compile(optimizer='rmsprop', loss='binary_crossentropy', metrics=['acc'])\n",
        "history3= model3.fit(partial_x_train, partial_y_train, epochs=20, batch_size=512, validation_data=(x_val, y_val))"
      ],
      "execution_count": 0,
      "outputs": [
        {
          "output_type": "stream",
          "text": [
            "Train on 15000 samples, validate on 10000 samples\n",
            "Epoch 1/20\n",
            "15000/15000 [==============================] - 2s 116us/step - loss: 0.5815 - acc: 0.7776 - val_loss: 0.4638 - val_acc: 0.8558\n",
            "Epoch 2/20\n",
            "15000/15000 [==============================] - 2s 110us/step - loss: 0.3849 - acc: 0.8931 - val_loss: 0.3682 - val_acc: 0.8826\n",
            "Epoch 3/20\n",
            "15000/15000 [==============================] - 2s 108us/step - loss: 0.3038 - acc: 0.9163 - val_loss: 0.3492 - val_acc: 0.8786\n",
            "Epoch 4/20\n",
            "15000/15000 [==============================] - 2s 114us/step - loss: 0.2661 - acc: 0.9268 - val_loss: 0.3362 - val_acc: 0.8845\n",
            "Epoch 5/20\n",
            "15000/15000 [==============================] - 2s 117us/step - loss: 0.2392 - acc: 0.9365 - val_loss: 0.3308 - val_acc: 0.8849\n",
            "Epoch 6/20\n",
            "15000/15000 [==============================] - 2s 128us/step - loss: 0.2200 - acc: 0.9454 - val_loss: 0.3361 - val_acc: 0.8855\n",
            "Epoch 7/20\n",
            "15000/15000 [==============================] - 2s 126us/step - loss: 0.2089 - acc: 0.9498 - val_loss: 0.3467 - val_acc: 0.8810\n",
            "Epoch 8/20\n",
            "15000/15000 [==============================] - 2s 135us/step - loss: 0.1992 - acc: 0.9529 - val_loss: 0.3567 - val_acc: 0.8826\n",
            "Epoch 9/20\n",
            "15000/15000 [==============================] - 2s 131us/step - loss: 0.1912 - acc: 0.9568 - val_loss: 0.3605 - val_acc: 0.8824\n",
            "Epoch 10/20\n",
            "15000/15000 [==============================] - 2s 129us/step - loss: 0.1816 - acc: 0.9600 - val_loss: 0.3593 - val_acc: 0.8816\n",
            "Epoch 11/20\n",
            "15000/15000 [==============================] - 2s 119us/step - loss: 0.1792 - acc: 0.9604 - val_loss: 0.3693 - val_acc: 0.8788\n",
            "Epoch 12/20\n",
            "15000/15000 [==============================] - 2s 120us/step - loss: 0.1742 - acc: 0.9625 - val_loss: 0.3737 - val_acc: 0.8802\n",
            "Epoch 13/20\n",
            "15000/15000 [==============================] - 2s 117us/step - loss: 0.1673 - acc: 0.9660 - val_loss: 0.3825 - val_acc: 0.8780\n",
            "Epoch 14/20\n",
            "15000/15000 [==============================] - 2s 109us/step - loss: 0.1649 - acc: 0.9647 - val_loss: 0.3901 - val_acc: 0.8778\n",
            "Epoch 15/20\n",
            "15000/15000 [==============================] - 2s 109us/step - loss: 0.1598 - acc: 0.9678 - val_loss: 0.3959 - val_acc: 0.8788\n",
            "Epoch 16/20\n",
            "15000/15000 [==============================] - 2s 108us/step - loss: 0.1588 - acc: 0.9683 - val_loss: 0.4270 - val_acc: 0.8708\n",
            "Epoch 17/20\n",
            "15000/15000 [==============================] - 2s 109us/step - loss: 0.1553 - acc: 0.9688 - val_loss: 0.4311 - val_acc: 0.8713\n",
            "Epoch 18/20\n",
            "15000/15000 [==============================] - 2s 109us/step - loss: 0.1512 - acc: 0.9709 - val_loss: 0.4207 - val_acc: 0.8733\n",
            "Epoch 19/20\n",
            "15000/15000 [==============================] - 2s 110us/step - loss: 0.1480 - acc: 0.9737 - val_loss: 0.4246 - val_acc: 0.8731\n",
            "Epoch 20/20\n",
            "15000/15000 [==============================] - 2s 110us/step - loss: 0.1493 - acc: 0.9707 - val_loss: 0.4313 - val_acc: 0.8715\n"
          ],
          "name": "stdout"
        }
      ]
    },
    {
      "cell_type": "code",
      "metadata": {
        "id": "7YoQk0YSZ7Ky",
        "colab_type": "code",
        "outputId": "b8fa72db-6d27-496a-a9c5-7ca7c5d81bad",
        "colab": {
          "base_uri": "https://localhost:8080/",
          "height": 295
        }
      },
      "source": [
        "history_dict= history.history\n",
        "history_dict1= history3.history\n",
        "loss_values=history_dict['val_loss']\n",
        "val_loss_values= history_dict1['val_loss']\n",
        "acc= history_dict['acc']\n",
        "epochs= range(1, len(acc)+1)\n",
        "plt.plot(epochs, loss_values, 'bo', label='Original Model')\n",
        "plt.plot(epochs, val_loss_values, 'b', label='New Model')\n",
        "plt.title('Effect of L2 Regularization on Validation Loss')\n",
        "plt.xlabel('Epochs')\n",
        "plt.ylabel('Loss')\n",
        "plt.legend()\n",
        "plt.show()"
      ],
      "execution_count": 0,
      "outputs": [
        {
          "output_type": "display_data",
          "data": {
            "image/png": "[encoded data removed]",
            "text/plain": [
              "<Figure size 432x288 with 1 Axes>"
            ]
          },
          "metadata": {
            "tags": [],
            "needs_background": "light"
          }
        }
      ]
    },
    {
      "cell_type": "markdown",
      "metadata": {
        "id": "fMQ8njcjU1ko",
        "colab_type": "text"
      },
      "source": [
        "### Simultaneous L1 and L2"
      ]
    },
    {
      "cell_type": "code",
      "metadata": {
        "id": "PIlSJL6IUmP2",
        "colab_type": "code",
        "outputId": "f7e35b86-6c81-4093-c349-f04c5349c93e",
        "colab": {
          "base_uri": "https://localhost:8080/",
          "height": 748
        }
      },
      "source": [
        "from keras import models\n",
        "from keras import layers\n",
        "from keras import regularizers\n",
        "model4 = models.Sequential()\n",
        "model4.add(layers.Dense(16, kernel_regularizer = regularizers.l1_l2(0.001), activation='relu', input_shape=(10000,)))\n",
        "model4.add(layers.Dense(16, kernel_regularizer=regularizers.l1_l2(0.001), activation='relu'))\n",
        "model4.add(layers.Dense(1, activation='sigmoid'))\n",
        "model4.compile(optimizer='rmsprop', loss='binary_crossentropy', metrics=['accuracy'])\n",
        "from keras import optimizers\n",
        "\n",
        "model4.compile(optimizer=optimizers.RMSprop(lr=0.001), loss='binary_crossentropy', metrics=['accuracy'])\n",
        "model4.compile(optimizer='rmsprop', loss='binary_crossentropy', metrics=['acc'])\n",
        "history4= model4.fit(partial_x_train, partial_y_train, epochs=20, batch_size=512, validation_data=(x_val, y_val))"
      ],
      "execution_count": 0,
      "outputs": [
        {
          "output_type": "stream",
          "text": [
            "Train on 15000 samples, validate on 10000 samples\n",
            "Epoch 1/20\n",
            "15000/15000 [==============================] - 2s 118us/step - loss: 1.2618 - acc: 0.7130 - val_loss: 0.8634 - val_acc: 0.7913\n",
            "Epoch 2/20\n",
            "15000/15000 [==============================] - 2s 112us/step - loss: 0.8132 - acc: 0.8231 - val_loss: 0.7832 - val_acc: 0.8402\n",
            "Epoch 3/20\n",
            "15000/15000 [==============================] - 2s 109us/step - loss: 0.7522 - acc: 0.8426 - val_loss: 0.7577 - val_acc: 0.8186\n",
            "Epoch 4/20\n",
            "15000/15000 [==============================] - 2s 109us/step - loss: 0.7148 - acc: 0.8451 - val_loss: 0.7157 - val_acc: 0.8432\n",
            "Epoch 5/20\n",
            "15000/15000 [==============================] - 2s 110us/step - loss: 0.6825 - acc: 0.8529 - val_loss: 0.6829 - val_acc: 0.8526\n",
            "Epoch 6/20\n",
            "15000/15000 [==============================] - 2s 111us/step - loss: 0.6630 - acc: 0.8545 - val_loss: 0.6687 - val_acc: 0.8510\n",
            "Epoch 7/20\n",
            "15000/15000 [==============================] - 2s 110us/step - loss: 0.6436 - acc: 0.8549 - val_loss: 0.6432 - val_acc: 0.8548\n",
            "Epoch 8/20\n",
            "15000/15000 [==============================] - 2s 111us/step - loss: 0.6259 - acc: 0.8605 - val_loss: 0.6288 - val_acc: 0.8562\n",
            "Epoch 9/20\n",
            "15000/15000 [==============================] - 2s 110us/step - loss: 0.6091 - acc: 0.8656 - val_loss: 0.6210 - val_acc: 0.8574\n",
            "Epoch 10/20\n",
            "15000/15000 [==============================] - 2s 112us/step - loss: 0.6077 - acc: 0.8585 - val_loss: 0.6291 - val_acc: 0.8464\n",
            "Epoch 11/20\n",
            "15000/15000 [==============================] - 2s 109us/step - loss: 0.5937 - acc: 0.8629 - val_loss: 0.5996 - val_acc: 0.8636\n",
            "Epoch 12/20\n",
            "15000/15000 [==============================] - 2s 110us/step - loss: 0.5892 - acc: 0.8635 - val_loss: 0.6028 - val_acc: 0.8584\n",
            "Epoch 13/20\n",
            "15000/15000 [==============================] - 2s 114us/step - loss: 0.5771 - acc: 0.8646 - val_loss: 0.5910 - val_acc: 0.8627\n",
            "Epoch 14/20\n",
            "15000/15000 [==============================] - 2s 112us/step - loss: 0.5767 - acc: 0.8661 - val_loss: 0.5855 - val_acc: 0.8638\n",
            "Epoch 15/20\n",
            "15000/15000 [==============================] - 2s 112us/step - loss: 0.5641 - acc: 0.8729 - val_loss: 0.5811 - val_acc: 0.8642\n",
            "Epoch 16/20\n",
            "15000/15000 [==============================] - 2s 114us/step - loss: 0.5618 - acc: 0.8707 - val_loss: 0.5746 - val_acc: 0.8644\n",
            "Epoch 17/20\n",
            "15000/15000 [==============================] - 2s 113us/step - loss: 0.5535 - acc: 0.8761 - val_loss: 0.6248 - val_acc: 0.8285\n",
            "Epoch 18/20\n",
            "15000/15000 [==============================] - 2s 111us/step - loss: 0.5537 - acc: 0.8737 - val_loss: 0.5694 - val_acc: 0.8649\n",
            "Epoch 19/20\n",
            "15000/15000 [==============================] - 2s 112us/step - loss: 0.5439 - acc: 0.8781 - val_loss: 0.5615 - val_acc: 0.8695\n",
            "Epoch 20/20\n",
            "15000/15000 [==============================] - 2s 115us/step - loss: 0.5463 - acc: 0.8750 - val_loss: 0.5549 - val_acc: 0.8731\n"
          ],
          "name": "stdout"
        }
      ]
    },
    {
      "cell_type": "code",
      "metadata": {
        "id": "Wi_Uf6ujadvb",
        "colab_type": "code",
        "outputId": "6215fb62-4551-4c16-9920-7c42e0a7d09a",
        "colab": {
          "base_uri": "https://localhost:8080/",
          "height": 295
        }
      },
      "source": [
        "history_dict= history.history\n",
        "history_dict1= history4.history\n",
        "loss_values=history_dict['val_loss']\n",
        "val_loss_values= history_dict1['val_loss']\n",
        "acc= history_dict['acc']\n",
        "epochs= range(1, len(acc)+1)\n",
        "plt.plot(epochs, loss_values, 'bo', label='Original Model')\n",
        "plt.plot(epochs, val_loss_values, 'b', label='New Model')\n",
        "plt.title('Effect of Simultaneous L1 and L2 on Validation Loss')\n",
        "plt.xlabel('Epochs')\n",
        "plt.ylabel('Loss')\n",
        "plt.legend()\n",
        "plt.show()"
      ],
      "execution_count": 0,
      "outputs": [
        {
          "output_type": "display_data",
          "data": {
            "image/png": "[encoded data removed]",
            "text/plain": [
              "<Figure size 432x288 with 1 Axes>"
            ]
          },
          "metadata": {
            "tags": [],
            "needs_background": "light"
          }
        }
      ]
    },
    {
      "cell_type": "markdown",
      "metadata": {
        "id": "iYzeTd6iTVze",
        "colab_type": "text"
      },
      "source": [
        "### Adding Dropout\n"
      ]
    },
    {
      "cell_type": "code",
      "metadata": {
        "id": "jvbdBSrGoQG7",
        "colab_type": "code",
        "colab": {}
      },
      "source": [
        ""
      ],
      "execution_count": 0,
      "outputs": []
    },
    {
      "cell_type": "markdown",
      "metadata": {
        "id": "4HPZZM-ToRsd",
        "colab_type": "text"
      },
      "source": [
        "#### Normal Dropout"
      ]
    },
    {
      "cell_type": "code",
      "metadata": {
        "id": "j0SXjU6fTS_b",
        "colab_type": "code",
        "colab": {}
      },
      "source": [
        "#Applied to layer and consist of randomly dropping out a number of output features of the layer during training"
      ],
      "execution_count": 0,
      "outputs": []
    },
    {
      "cell_type": "code",
      "metadata": {
        "id": "lKNrmswUTTCG",
        "colab_type": "code",
        "outputId": "46021e91-9bf1-4740-84e7-074b0eb27708",
        "colab": {
          "base_uri": "https://localhost:8080/",
          "height": 748
        }
      },
      "source": [
        "from keras import models\n",
        "from keras import layers\n",
        "from keras import regularizers\n",
        "model5 = models.Sequential()\n",
        "model5.add(layers.Dense(16,activation='relu', input_shape=(10000,)))\n",
        "model5.add(layers.Dropout(0.5))\n",
        "model5.add(layers.Dense(16, activation='relu'))\n",
        "model5.add(layers.Dropout(0.5))\n",
        "model5.add(layers.Dense(1, activation='sigmoid'))\n",
        "model5.compile(optimizer='rmsprop', loss='binary_crossentropy', metrics=['accuracy'])\n",
        "from keras import optimizers\n",
        "\n",
        "model5.compile(optimizer=optimizers.RMSprop(lr=0.001), loss='binary_crossentropy', metrics=['accuracy'])\n",
        "model5.compile(optimizer='rmsprop', loss='binary_crossentropy', metrics=['acc'])\n",
        "history5= model5.fit(partial_x_train, partial_y_train, epochs=20, batch_size=512, validation_data=(x_val, y_val))"
      ],
      "execution_count": 0,
      "outputs": [
        {
          "output_type": "stream",
          "text": [
            "Train on 15000 samples, validate on 10000 samples\n",
            "Epoch 1/20\n",
            "15000/15000 [==============================] - 2s 118us/step - loss: 0.6390 - acc: 0.6283 - val_loss: 0.5366 - val_acc: 0.8277\n",
            "Epoch 2/20\n",
            "15000/15000 [==============================] - 2s 111us/step - loss: 0.5328 - acc: 0.7419 - val_loss: 0.4388 - val_acc: 0.8696\n",
            "Epoch 3/20\n",
            "15000/15000 [==============================] - 2s 110us/step - loss: 0.4584 - acc: 0.7971 - val_loss: 0.3705 - val_acc: 0.8778\n",
            "Epoch 4/20\n",
            "15000/15000 [==============================] - 2s 111us/step - loss: 0.3965 - acc: 0.8376 - val_loss: 0.3101 - val_acc: 0.8870\n",
            "Epoch 5/20\n",
            "15000/15000 [==============================] - 2s 110us/step - loss: 0.3455 - acc: 0.8673 - val_loss: 0.2891 - val_acc: 0.8894\n",
            "Epoch 6/20\n",
            "15000/15000 [==============================] - 2s 112us/step - loss: 0.3027 - acc: 0.8843 - val_loss: 0.2750 - val_acc: 0.8929\n",
            "Epoch 7/20\n",
            "15000/15000 [==============================] - 2s 112us/step - loss: 0.2725 - acc: 0.9041 - val_loss: 0.2782 - val_acc: 0.8888\n",
            "Epoch 8/20\n",
            "15000/15000 [==============================] - 2s 112us/step - loss: 0.2426 - acc: 0.9171 - val_loss: 0.2838 - val_acc: 0.8888\n",
            "Epoch 9/20\n",
            "15000/15000 [==============================] - 2s 113us/step - loss: 0.2093 - acc: 0.9306 - val_loss: 0.2861 - val_acc: 0.8895\n",
            "Epoch 10/20\n",
            "15000/15000 [==============================] - 2s 113us/step - loss: 0.1921 - acc: 0.9357 - val_loss: 0.3440 - val_acc: 0.8812\n",
            "Epoch 11/20\n",
            "15000/15000 [==============================] - 2s 110us/step - loss: 0.1737 - acc: 0.9447 - val_loss: 0.3082 - val_acc: 0.8878\n",
            "Epoch 12/20\n",
            "15000/15000 [==============================] - 2s 112us/step - loss: 0.1565 - acc: 0.9515 - val_loss: 0.3366 - val_acc: 0.8878\n",
            "Epoch 13/20\n",
            "15000/15000 [==============================] - 2s 114us/step - loss: 0.1356 - acc: 0.9563 - val_loss: 0.3673 - val_acc: 0.8896\n",
            "Epoch 14/20\n",
            "15000/15000 [==============================] - 2s 111us/step - loss: 0.1247 - acc: 0.9585 - val_loss: 0.3730 - val_acc: 0.8869\n",
            "Epoch 15/20\n",
            "15000/15000 [==============================] - 2s 107us/step - loss: 0.1125 - acc: 0.9632 - val_loss: 0.4016 - val_acc: 0.8879\n",
            "Epoch 16/20\n",
            "15000/15000 [==============================] - 2s 107us/step - loss: 0.1037 - acc: 0.9660 - val_loss: 0.4454 - val_acc: 0.8884\n",
            "Epoch 17/20\n",
            "15000/15000 [==============================] - 2s 108us/step - loss: 0.0961 - acc: 0.9684 - val_loss: 0.4455 - val_acc: 0.8826\n",
            "Epoch 18/20\n",
            "15000/15000 [==============================] - 2s 109us/step - loss: 0.0913 - acc: 0.9677 - val_loss: 0.4848 - val_acc: 0.8869\n",
            "Epoch 19/20\n",
            "15000/15000 [==============================] - 2s 115us/step - loss: 0.0921 - acc: 0.9687 - val_loss: 0.5059 - val_acc: 0.8844\n",
            "Epoch 20/20\n",
            "15000/15000 [==============================] - 2s 112us/step - loss: 0.0843 - acc: 0.9706 - val_loss: 0.5525 - val_acc: 0.8830\n"
          ],
          "name": "stdout"
        }
      ]
    },
    {
      "cell_type": "code",
      "metadata": {
        "id": "UxsvTFPyapHO",
        "colab_type": "code",
        "outputId": "dd1569a4-379e-42fb-da64-3885bb79d208",
        "colab": {
          "base_uri": "https://localhost:8080/",
          "height": 295
        }
      },
      "source": [
        "history_dict= history.history\n",
        "history_dict1= history5.history\n",
        "loss_values=history_dict['val_loss']\n",
        "val_loss_values= history_dict1['val_loss']\n",
        "acc= history_dict['acc']\n",
        "epochs= range(1, len(acc)+1)\n",
        "plt.plot(epochs, loss_values, 'bo', label='Original Model')\n",
        "plt.plot(epochs, val_loss_values, 'b', label='New Model')\n",
        "plt.title('Effect of Dropout on Validation Loss')\n",
        "plt.xlabel('Epochs')\n",
        "plt.ylabel('Loss')\n",
        "plt.legend()\n",
        "plt.show()"
      ],
      "execution_count": 0,
      "outputs": [
        {
          "output_type": "display_data",
          "data": {
            "image/png": "[encoded data removed]",
            "text/plain": [
              "<Figure size 432x288 with 1 Axes>"
            ]
          },
          "metadata": {
            "tags": [],
            "needs_background": "light"
          }
        }
      ]
    },
    {
      "cell_type": "code",
      "metadata": {
        "id": "DQOyd-J6oA8V",
        "colab_type": "code",
        "colab": {}
      },
      "source": [
        ""
      ],
      "execution_count": 0,
      "outputs": []
    },
    {
      "cell_type": "markdown",
      "metadata": {
        "id": "oqAirh8DoB8D",
        "colab_type": "text"
      },
      "source": [
        "#### Dropout with hyperparameter tuning\n"
      ]
    },
    {
      "cell_type": "code",
      "metadata": {
        "id": "Iob5umpZnJWD",
        "colab_type": "code",
        "outputId": "08f4778d-5295-4985-f229-90a8d324063f",
        "colab": {
          "base_uri": "https://localhost:8080/",
          "height": 1000
        }
      },
      "source": [
        "\n",
        "import keras\n",
        "from sklearn.model_selection import GridSearchCV\n",
        "def build_model(n_hidden=2, n_neurons=16, rate=0.5):\n",
        "    classifier = models.Sequential()\n",
        "    classifier.add(layers.Dense(16,activation='relu', input_shape=(10000,)))\n",
        "    \n",
        "    for i in range(n_hidden):\n",
        "        n_neurons=int(n_neurons/(i+1))\n",
        "        classifier.add(layers.Dropout(rate))\n",
        "        classifier.add(layers.Dense(n_neurons, activation='relu'))\n",
        "        classifier.add(layers.Dropout(rate))\n",
        "        classifier.add(layers.Dense(1, activation='sigmoid'))\n",
        "        # Compile model\n",
        "        classifier.compile(optimizer='rmsprop', loss='binary_crossentropy', metrics=['accuracy'])\n",
        "    return classifier\n",
        "\n",
        "param_distribs = {\n",
        "    \"rate\" :[0.2,0.4, 0.5,0.6],\n",
        "    #'Optimizer':['adam','rmsprop']\n",
        "    'n_neurons':[16,32,64]\n",
        "}\n",
        "from keras.wrappers.scikit_learn import KerasClassifier\n",
        "keras_model =  KerasClassifier(build_fn = build_model)\n",
        "grid_search_cv = GridSearchCV(keras_model, param_distribs, cv=3, verbose=2)\n",
        "grid_search_cv.fit(partial_x_train, partial_y_train, epochs=10, validation_data=(x_val, y_val), callbacks=[keras.callbacks.EarlyStopping(patience=10)])\n",
        "print(\"Best Parameters:\",grid_search_cv.best_params_)\n",
        "print(\"CV Score:\",grid_search_cv.best_score_)\n",
        "print(\"Best Estimator:\",grid_search_cv.best_estimator_)\n",
        "print(\"Test Score:\", grid_search_cv.score(x_test,y_test))"
      ],
      "execution_count": 0,
      "outputs": [
        {
          "output_type": "stream",
          "text": [
            "Fitting 3 folds for each of 12 candidates, totalling 36 fits\n",
            "[CV] n_neurons=16, rate=0.2 ..........................................\n"
          ],
          "name": "stdout"
        },
        {
          "output_type": "stream",
          "text": [
            "[Parallel(n_jobs=1)]: Using backend SequentialBackend with 1 concurrent workers.\n"
          ],
          "name": "stderr"
        },
        {
          "output_type": "stream",
          "text": [
            "Train on 10000 samples, validate on 10000 samples\n",
            "Epoch 1/10\n",
            "10000/10000 [==============================] - 3s 262us/step - loss: 0.6658 - accuracy: 0.5966 - val_loss: 0.5876 - val_accuracy: 0.8537\n",
            "Epoch 2/10\n",
            "10000/10000 [==============================] - 2s 199us/step - loss: 0.5364 - accuracy: 0.7882 - val_loss: 0.4543 - val_accuracy: 0.8659\n",
            "Epoch 3/10\n",
            "10000/10000 [==============================] - 2s 203us/step - loss: 0.4558 - accuracy: 0.8191 - val_loss: 0.3878 - val_accuracy: 0.8737\n",
            "Epoch 4/10\n",
            "10000/10000 [==============================] - 2s 205us/step - loss: 0.4158 - accuracy: 0.8407 - val_loss: 0.3748 - val_accuracy: 0.8638\n",
            "Epoch 5/10\n",
            "10000/10000 [==============================] - 2s 209us/step - loss: 0.4032 - accuracy: 0.8454 - val_loss: 0.3663 - val_accuracy: 0.8728\n",
            "Epoch 6/10\n",
            "10000/10000 [==============================] - 2s 204us/step - loss: 0.3833 - accuracy: 0.8564 - val_loss: 0.3624 - val_accuracy: 0.8773\n",
            "Epoch 7/10\n",
            "10000/10000 [==============================] - 2s 204us/step - loss: 0.3675 - accuracy: 0.8637 - val_loss: 0.3625 - val_accuracy: 0.8724\n",
            "Epoch 8/10\n",
            "10000/10000 [==============================] - 2s 227us/step - loss: 0.3492 - accuracy: 0.8721 - val_loss: 0.3676 - val_accuracy: 0.8810\n",
            "Epoch 9/10\n",
            "10000/10000 [==============================] - 2s 229us/step - loss: 0.3451 - accuracy: 0.8730 - val_loss: 0.3784 - val_accuracy: 0.8600\n",
            "Epoch 10/10\n",
            "10000/10000 [==============================] - 3s 252us/step - loss: 0.3406 - accuracy: 0.8766 - val_loss: 0.3732 - val_accuracy: 0.8793\n",
            "5000/5000 [==============================] - 0s 71us/step\n",
            "[CV] ........................... n_neurons=16, rate=0.2, total=  24.0s\n",
            "[CV] n_neurons=16, rate=0.2 ..........................................\n"
          ],
          "name": "stdout"
        },
        {
          "output_type": "stream",
          "text": [
            "[Parallel(n_jobs=1)]: Done   1 out of   1 | elapsed:   24.0s remaining:    0.0s\n"
          ],
          "name": "stderr"
        },
        {
          "output_type": "stream",
          "text": [
            "Train on 10000 samples, validate on 10000 samples\n",
            "Epoch 1/10\n",
            "10000/10000 [==============================] - 3s 261us/step - loss: 0.6415 - accuracy: 0.6598 - val_loss: 0.5542 - val_accuracy: 0.8621\n",
            "Epoch 2/10\n",
            "10000/10000 [==============================] - 2s 218us/step - loss: 0.5370 - accuracy: 0.7856 - val_loss: 0.4631 - val_accuracy: 0.8657\n",
            "Epoch 3/10\n",
            "10000/10000 [==============================] - 2s 215us/step - loss: 0.4709 - accuracy: 0.8139 - val_loss: 0.4288 - val_accuracy: 0.8461\n",
            "Epoch 4/10\n",
            "10000/10000 [==============================] - 2s 215us/step - loss: 0.4319 - accuracy: 0.8241 - val_loss: 0.3916 - val_accuracy: 0.8640\n",
            "Epoch 5/10\n",
            "10000/10000 [==============================] - 2s 225us/step - loss: 0.4080 - accuracy: 0.8378 - val_loss: 0.3831 - val_accuracy: 0.8692\n",
            "Epoch 6/10\n",
            "10000/10000 [==============================] - 2s 224us/step - loss: 0.3941 - accuracy: 0.8465 - val_loss: 0.3788 - val_accuracy: 0.8587\n",
            "Epoch 7/10\n",
            "10000/10000 [==============================] - 2s 220us/step - loss: 0.3845 - accuracy: 0.8513 - val_loss: 0.3884 - val_accuracy: 0.8756\n",
            "Epoch 8/10\n",
            "10000/10000 [==============================] - 2s 226us/step - loss: 0.3754 - accuracy: 0.8507 - val_loss: 0.3784 - val_accuracy: 0.8724\n",
            "Epoch 9/10\n",
            "10000/10000 [==============================] - 2s 222us/step - loss: 0.3639 - accuracy: 0.8585 - val_loss: 0.3791 - val_accuracy: 0.8742\n",
            "Epoch 10/10\n",
            "10000/10000 [==============================] - 2s 222us/step - loss: 0.3674 - accuracy: 0.8553 - val_loss: 0.3859 - val_accuracy: 0.8710\n",
            "5000/5000 [==============================] - 0s 63us/step\n",
            "[CV] ........................... n_neurons=16, rate=0.2, total=  23.9s\n",
            "[CV] n_neurons=16, rate=0.2 ..........................................\n",
            "Train on 10000 samples, validate on 10000 samples\n",
            "Epoch 1/10\n",
            "10000/10000 [==============================] - 2s 242us/step - loss: 0.6454 - accuracy: 0.6447 - val_loss: 0.5672 - val_accuracy: 0.8575\n",
            "Epoch 2/10\n",
            "10000/10000 [==============================] - 2s 223us/step - loss: 0.5315 - accuracy: 0.8023 - val_loss: 0.4821 - val_accuracy: 0.8611\n",
            "Epoch 3/10\n",
            "10000/10000 [==============================] - 2s 220us/step - loss: 0.4696 - accuracy: 0.8257 - val_loss: 0.4333 - val_accuracy: 0.8683\n",
            "Epoch 4/10\n",
            "10000/10000 [==============================] - 2s 223us/step - loss: 0.4345 - accuracy: 0.8371 - val_loss: 0.4154 - val_accuracy: 0.8657\n",
            "Epoch 5/10\n",
            "10000/10000 [==============================] - 2s 226us/step - loss: 0.4106 - accuracy: 0.8454 - val_loss: 0.4068 - val_accuracy: 0.8646\n",
            "Epoch 6/10\n",
            "10000/10000 [==============================] - 2s 216us/step - loss: 0.3926 - accuracy: 0.8496 - val_loss: 0.3965 - val_accuracy: 0.8584\n",
            "Epoch 7/10\n",
            "10000/10000 [==============================] - 2s 232us/step - loss: 0.3794 - accuracy: 0.8562 - val_loss: 0.4000 - val_accuracy: 0.8636\n",
            "Epoch 8/10\n",
            "10000/10000 [==============================] - 2s 222us/step - loss: 0.3725 - accuracy: 0.8587 - val_loss: 0.3946 - val_accuracy: 0.8596\n",
            "Epoch 9/10\n",
            "10000/10000 [==============================] - 2s 221us/step - loss: 0.3611 - accuracy: 0.8654 - val_loss: 0.4265 - val_accuracy: 0.8647\n",
            "Epoch 10/10\n",
            "10000/10000 [==============================] - 2s 235us/step - loss: 0.3593 - accuracy: 0.8631 - val_loss: 0.4099 - val_accuracy: 0.8638\n",
            "5000/5000 [==============================] - 0s 69us/step\n",
            "[CV] ........................... n_neurons=16, rate=0.2, total=  24.0s\n",
            "[CV] n_neurons=16, rate=0.4 ..........................................\n",
            "Train on 10000 samples, validate on 10000 samples\n",
            "Epoch 1/10\n",
            "10000/10000 [==============================] - 3s 258us/step - loss: 0.6811 - accuracy: 0.5550 - val_loss: 0.6366 - val_accuracy: 0.8424\n",
            "Epoch 2/10\n",
            "10000/10000 [==============================] - 2s 219us/step - loss: 0.6225 - accuracy: 0.6641 - val_loss: 0.5529 - val_accuracy: 0.8474\n",
            "Epoch 3/10\n",
            "10000/10000 [==============================] - 2s 220us/step - loss: 0.5810 - accuracy: 0.7000 - val_loss: 0.4964 - val_accuracy: 0.8456\n",
            "Epoch 4/10\n",
            "10000/10000 [==============================] - 2s 223us/step - loss: 0.5625 - accuracy: 0.7121 - val_loss: 0.4572 - val_accuracy: 0.8656\n",
            "Epoch 5/10\n",
            "10000/10000 [==============================] - 2s 227us/step - loss: 0.5527 - accuracy: 0.7174 - val_loss: 0.4616 - val_accuracy: 0.8550\n",
            "Epoch 6/10\n",
            "10000/10000 [==============================] - 2s 227us/step - loss: 0.5397 - accuracy: 0.7290 - val_loss: 0.4564 - val_accuracy: 0.8475\n",
            "Epoch 7/10\n",
            "10000/10000 [==============================] - 2s 223us/step - loss: 0.5315 - accuracy: 0.7377 - val_loss: 0.4338 - val_accuracy: 0.8666\n",
            "Epoch 8/10\n",
            "10000/10000 [==============================] - 2s 230us/step - loss: 0.5228 - accuracy: 0.7375 - val_loss: 0.4250 - val_accuracy: 0.8684\n",
            "Epoch 9/10\n",
            "10000/10000 [==============================] - 2s 226us/step - loss: 0.5254 - accuracy: 0.7343 - val_loss: 0.4259 - val_accuracy: 0.8664\n",
            "Epoch 10/10\n",
            "10000/10000 [==============================] - 2s 225us/step - loss: 0.5191 - accuracy: 0.7415 - val_loss: 0.4243 - val_accuracy: 0.8615\n",
            "5000/5000 [==============================] - 0s 63us/step\n",
            "[CV] ........................... n_neurons=16, rate=0.4, total=  24.2s\n",
            "[CV] n_neurons=16, rate=0.4 ..........................................\n",
            "Train on 10000 samples, validate on 10000 samples\n",
            "Epoch 1/10\n",
            "10000/10000 [==============================] - 2s 247us/step - loss: 0.6855 - accuracy: 0.5384 - val_loss: 0.6569 - val_accuracy: 0.8340\n",
            "Epoch 2/10\n",
            "10000/10000 [==============================] - 2s 216us/step - loss: 0.6444 - accuracy: 0.6475 - val_loss: 0.5809 - val_accuracy: 0.8558\n",
            "Epoch 3/10\n",
            "10000/10000 [==============================] - 2s 222us/step - loss: 0.6011 - accuracy: 0.6963 - val_loss: 0.5083 - val_accuracy: 0.8671\n",
            "Epoch 4/10\n",
            "10000/10000 [==============================] - 2s 223us/step - loss: 0.5766 - accuracy: 0.7070 - val_loss: 0.4728 - val_accuracy: 0.8685\n",
            "Epoch 5/10\n",
            "10000/10000 [==============================] - 2s 224us/step - loss: 0.5592 - accuracy: 0.7238 - val_loss: 0.4604 - val_accuracy: 0.8695\n",
            "Epoch 6/10\n",
            "10000/10000 [==============================] - 2s 230us/step - loss: 0.5395 - accuracy: 0.7363 - val_loss: 0.4510 - val_accuracy: 0.8596\n",
            "Epoch 7/10\n",
            "10000/10000 [==============================] - 2s 243us/step - loss: 0.5405 - accuracy: 0.7342 - val_loss: 0.4409 - val_accuracy: 0.8649\n",
            "Epoch 8/10\n",
            "10000/10000 [==============================] - 2s 240us/step - loss: 0.5255 - accuracy: 0.7467 - val_loss: 0.4342 - val_accuracy: 0.8573\n",
            "Epoch 9/10\n",
            "10000/10000 [==============================] - 2s 242us/step - loss: 0.5241 - accuracy: 0.7444 - val_loss: 0.4274 - val_accuracy: 0.8647\n",
            "Epoch 10/10\n",
            "10000/10000 [==============================] - 2s 243us/step - loss: 0.5290 - accuracy: 0.7417 - val_loss: 0.4296 - val_accuracy: 0.8604\n",
            "5000/5000 [==============================] - 0s 69us/step\n",
            "[CV] ........................... n_neurons=16, rate=0.4, total=  24.7s\n",
            "[CV] n_neurons=16, rate=0.4 ..........................................\n",
            "Train on 10000 samples, validate on 10000 samples\n",
            "Epoch 1/10\n",
            "10000/10000 [==============================] - 2s 249us/step - loss: 0.6903 - accuracy: 0.5189 - val_loss: 0.6729 - val_accuracy: 0.6969\n",
            "Epoch 2/10\n",
            "10000/10000 [==============================] - 2s 223us/step - loss: 0.6492 - accuracy: 0.6452 - val_loss: 0.5851 - val_accuracy: 0.8558\n",
            "Epoch 3/10\n",
            "10000/10000 [==============================] - 2s 229us/step - loss: 0.5988 - accuracy: 0.6968 - val_loss: 0.5313 - val_accuracy: 0.8497\n",
            "Epoch 4/10\n",
            "10000/10000 [==============================] - 2s 230us/step - loss: 0.5726 - accuracy: 0.7136 - val_loss: 0.4901 - val_accuracy: 0.8635\n",
            "Epoch 5/10\n",
            "10000/10000 [==============================] - 2s 240us/step - loss: 0.5542 - accuracy: 0.7263 - val_loss: 0.4708 - val_accuracy: 0.8597\n",
            "Epoch 6/10\n",
            "10000/10000 [==============================] - 2s 239us/step - loss: 0.5556 - accuracy: 0.7271 - val_loss: 0.4597 - val_accuracy: 0.8651\n",
            "Epoch 7/10\n",
            "10000/10000 [==============================] - 2s 244us/step - loss: 0.5416 - accuracy: 0.7403 - val_loss: 0.4573 - val_accuracy: 0.8575\n",
            "Epoch 8/10\n",
            "10000/10000 [==============================] - 2s 226us/step - loss: 0.5286 - accuracy: 0.7494 - val_loss: 0.4502 - val_accuracy: 0.8610\n",
            "Epoch 9/10\n",
            "10000/10000 [==============================] - 2s 226us/step - loss: 0.5314 - accuracy: 0.7430 - val_loss: 0.4424 - val_accuracy: 0.8617\n",
            "Epoch 10/10\n",
            "10000/10000 [==============================] - 2s 224us/step - loss: 0.5267 - accuracy: 0.7495 - val_loss: 0.4585 - val_accuracy: 0.8416\n",
            "5000/5000 [==============================] - 0s 65us/step\n",
            "[CV] ........................... n_neurons=16, rate=0.4, total=  24.7s\n",
            "[CV] n_neurons=16, rate=0.5 ..........................................\n",
            "Train on 10000 samples, validate on 10000 samples\n",
            "Epoch 1/10\n",
            "10000/10000 [==============================] - 2s 238us/step - loss: 0.7007 - accuracy: 0.5052 - val_loss: 0.6945 - val_accuracy: 0.5053\n",
            "Epoch 2/10\n",
            "10000/10000 [==============================] - 2s 223us/step - loss: 0.6946 - accuracy: 0.5165 - val_loss: 0.6870 - val_accuracy: 0.7323\n",
            "Epoch 3/10\n",
            "10000/10000 [==============================] - 2s 220us/step - loss: 0.6816 - accuracy: 0.5597 - val_loss: 0.6614 - val_accuracy: 0.7897\n",
            "Epoch 4/10\n",
            "10000/10000 [==============================] - 2s 221us/step - loss: 0.6542 - accuracy: 0.6122 - val_loss: 0.6161 - val_accuracy: 0.8456\n",
            "Epoch 5/10\n",
            "10000/10000 [==============================] - 2s 220us/step - loss: 0.6375 - accuracy: 0.6330 - val_loss: 0.5996 - val_accuracy: 0.8233\n",
            "Epoch 6/10\n",
            "10000/10000 [==============================] - 2s 220us/step - loss: 0.6248 - accuracy: 0.6414 - val_loss: 0.5784 - val_accuracy: 0.8142\n",
            "Epoch 7/10\n",
            "10000/10000 [==============================] - 2s 235us/step - loss: 0.6155 - accuracy: 0.6569 - val_loss: 0.5591 - val_accuracy: 0.8298\n",
            "Epoch 8/10\n",
            "10000/10000 [==============================] - 2s 225us/step - loss: 0.6123 - accuracy: 0.6629 - val_loss: 0.5423 - val_accuracy: 0.8368\n",
            "Epoch 9/10\n",
            "10000/10000 [==============================] - 2s 232us/step - loss: 0.6108 - accuracy: 0.6657 - val_loss: 0.5366 - val_accuracy: 0.8453\n",
            "Epoch 10/10\n",
            "10000/10000 [==============================] - 2s 240us/step - loss: 0.6023 - accuracy: 0.6768 - val_loss: 0.5410 - val_accuracy: 0.8344\n",
            "5000/5000 [==============================] - 0s 65us/step\n",
            "[CV] ........................... n_neurons=16, rate=0.5, total=  24.2s\n",
            "[CV] n_neurons=16, rate=0.5 ..........................................\n",
            "Train on 10000 samples, validate on 10000 samples\n",
            "Epoch 1/10\n",
            "10000/10000 [==============================] - 3s 286us/step - loss: 0.6912 - accuracy: 0.5242 - val_loss: 0.6702 - val_accuracy: 0.8116\n",
            "Epoch 2/10\n",
            "10000/10000 [==============================] - 2s 240us/step - loss: 0.6704 - accuracy: 0.5684 - val_loss: 0.6330 - val_accuracy: 0.8343\n",
            "Epoch 3/10\n",
            "10000/10000 [==============================] - 2s 242us/step - loss: 0.6524 - accuracy: 0.5974 - val_loss: 0.6247 - val_accuracy: 0.7980\n",
            "Epoch 4/10\n",
            "10000/10000 [==============================] - 2s 247us/step - loss: 0.6397 - accuracy: 0.6249 - val_loss: 0.5931 - val_accuracy: 0.8212\n",
            "Epoch 5/10\n",
            "10000/10000 [==============================] - 3s 251us/step - loss: 0.6266 - accuracy: 0.6395 - val_loss: 0.5709 - val_accuracy: 0.8303\n",
            "Epoch 6/10\n",
            "10000/10000 [==============================] - 2s 233us/step - loss: 0.6161 - accuracy: 0.6482 - val_loss: 0.5586 - val_accuracy: 0.8343\n",
            "Epoch 7/10\n",
            "10000/10000 [==============================] - 2s 245us/step - loss: 0.6269 - accuracy: 0.6372 - val_loss: 0.5650 - val_accuracy: 0.8311\n",
            "Epoch 8/10\n",
            "10000/10000 [==============================] - 2s 246us/step - loss: 0.6111 - accuracy: 0.6556 - val_loss: 0.5634 - val_accuracy: 0.8171\n",
            "Epoch 9/10\n",
            "10000/10000 [==============================] - 2s 244us/step - loss: 0.6048 - accuracy: 0.6603 - val_loss: 0.5499 - val_accuracy: 0.8343\n",
            "Epoch 10/10\n",
            "10000/10000 [==============================] - 2s 218us/step - loss: 0.6133 - accuracy: 0.6488 - val_loss: 0.5572 - val_accuracy: 0.8110\n",
            "5000/5000 [==============================] - 0s 61us/step\n",
            "[CV] ........................... n_neurons=16, rate=0.5, total=  26.0s\n",
            "[CV] n_neurons=16, rate=0.5 ..........................................\n",
            "Train on 10000 samples, validate on 10000 samples\n",
            "Epoch 1/10\n",
            "10000/10000 [==============================] - 2s 247us/step - loss: 0.6868 - accuracy: 0.5421 - val_loss: 0.6653 - val_accuracy: 0.8055\n",
            "Epoch 2/10\n",
            "10000/10000 [==============================] - 2s 218us/step - loss: 0.6546 - accuracy: 0.6217 - val_loss: 0.6068 - val_accuracy: 0.8486\n",
            "Epoch 3/10\n",
            "10000/10000 [==============================] - 2s 219us/step - loss: 0.6244 - accuracy: 0.6539 - val_loss: 0.5579 - val_accuracy: 0.8456\n",
            "Epoch 4/10\n",
            "10000/10000 [==============================] - 2s 219us/step - loss: 0.6111 - accuracy: 0.6623 - val_loss: 0.5415 - val_accuracy: 0.8366\n",
            "Epoch 5/10\n",
            "10000/10000 [==============================] - 2s 222us/step - loss: 0.6075 - accuracy: 0.6683 - val_loss: 0.5258 - val_accuracy: 0.8511\n",
            "Epoch 6/10\n",
            "10000/10000 [==============================] - 2s 237us/step - loss: 0.5948 - accuracy: 0.6836 - val_loss: 0.5185 - val_accuracy: 0.8506\n",
            "Epoch 7/10\n",
            "10000/10000 [==============================] - 2s 236us/step - loss: 0.5904 - accuracy: 0.6850 - val_loss: 0.5212 - val_accuracy: 0.8378\n",
            "Epoch 8/10\n",
            "10000/10000 [==============================] - 2s 245us/step - loss: 0.5851 - accuracy: 0.6876 - val_loss: 0.5056 - val_accuracy: 0.8445\n",
            "Epoch 9/10\n",
            "10000/10000 [==============================] - 2s 238us/step - loss: 0.5829 - accuracy: 0.6933 - val_loss: 0.4980 - val_accuracy: 0.8511\n",
            "Epoch 10/10\n",
            "10000/10000 [==============================] - 2s 239us/step - loss: 0.5800 - accuracy: 0.6924 - val_loss: 0.4891 - val_accuracy: 0.8630\n",
            "5000/5000 [==============================] - 0s 67us/step\n",
            "[CV] ........................... n_neurons=16, rate=0.5, total=  25.2s\n",
            "[CV] n_neurons=16, rate=0.6 ..........................................\n",
            "Train on 10000 samples, validate on 10000 samples\n",
            "Epoch 1/10\n",
            "10000/10000 [==============================] - 3s 254us/step - loss: 0.7071 - accuracy: 0.4989 - val_loss: 0.6934 - val_accuracy: 0.5053\n",
            "Epoch 2/10\n",
            "10000/10000 [==============================] - 2s 235us/step - loss: 0.6951 - accuracy: 0.5002 - val_loss: 0.6932 - val_accuracy: 0.5053\n",
            "Epoch 3/10\n",
            "10000/10000 [==============================] - 2s 232us/step - loss: 0.6941 - accuracy: 0.4967 - val_loss: 0.6932 - val_accuracy: 0.5053\n",
            "Epoch 4/10\n",
            "10000/10000 [==============================] - 2s 230us/step - loss: 0.6935 - accuracy: 0.5009 - val_loss: 0.6932 - val_accuracy: 0.5053\n",
            "Epoch 5/10\n",
            "10000/10000 [==============================] - 2s 234us/step - loss: 0.6932 - accuracy: 0.4981 - val_loss: 0.6932 - val_accuracy: 0.5053\n",
            "Epoch 6/10\n",
            "10000/10000 [==============================] - 2s 232us/step - loss: 0.6935 - accuracy: 0.5003 - val_loss: 0.6933 - val_accuracy: 0.4947\n",
            "Epoch 7/10\n",
            "10000/10000 [==============================] - 2s 234us/step - loss: 0.6933 - accuracy: 0.5046 - val_loss: 0.6929 - val_accuracy: 0.4947\n",
            "Epoch 8/10\n",
            "10000/10000 [==============================] - 2s 236us/step - loss: 0.6919 - accuracy: 0.5275 - val_loss: 0.6889 - val_accuracy: 0.7796\n",
            "Epoch 9/10\n",
            "10000/10000 [==============================] - 2s 237us/step - loss: 0.6882 - accuracy: 0.5362 - val_loss: 0.6796 - val_accuracy: 0.8184\n",
            "Epoch 10/10\n",
            "10000/10000 [==============================] - 2s 247us/step - loss: 0.6805 - accuracy: 0.5506 - val_loss: 0.6693 - val_accuracy: 0.8025\n",
            "5000/5000 [==============================] - 0s 72us/step\n",
            "[CV] ........................... n_neurons=16, rate=0.6, total=  25.2s\n",
            "[CV] n_neurons=16, rate=0.6 ..........................................\n",
            "Train on 10000 samples, validate on 10000 samples\n",
            "Epoch 1/10\n",
            "10000/10000 [==============================] - 3s 285us/step - loss: 0.6955 - accuracy: 0.5024 - val_loss: 0.6913 - val_accuracy: 0.5074\n",
            "Epoch 2/10\n",
            "10000/10000 [==============================] - 3s 252us/step - loss: 0.6909 - accuracy: 0.5107 - val_loss: 0.6893 - val_accuracy: 0.6078\n",
            "Epoch 3/10\n",
            "10000/10000 [==============================] - 2s 246us/step - loss: 0.6860 - accuracy: 0.5275 - val_loss: 0.6829 - val_accuracy: 0.7476\n",
            "Epoch 4/10\n",
            "10000/10000 [==============================] - 2s 248us/step - loss: 0.6788 - accuracy: 0.5291 - val_loss: 0.6666 - val_accuracy: 0.7874\n",
            "Epoch 5/10\n",
            "10000/10000 [==============================] - 3s 261us/step - loss: 0.6722 - accuracy: 0.5490 - val_loss: 0.6520 - val_accuracy: 0.8025\n",
            "Epoch 6/10\n",
            "10000/10000 [==============================] - 3s 260us/step - loss: 0.6677 - accuracy: 0.5586 - val_loss: 0.6469 - val_accuracy: 0.7891\n",
            "Epoch 7/10\n",
            "10000/10000 [==============================] - 2s 243us/step - loss: 0.6622 - accuracy: 0.5721 - val_loss: 0.6325 - val_accuracy: 0.8090\n",
            "Epoch 8/10\n",
            "10000/10000 [==============================] - 2s 242us/step - loss: 0.6629 - accuracy: 0.5705 - val_loss: 0.6381 - val_accuracy: 0.7821\n",
            "Epoch 9/10\n",
            "10000/10000 [==============================] - 2s 242us/step - loss: 0.6589 - accuracy: 0.5771 - val_loss: 0.6267 - val_accuracy: 0.8008\n",
            "Epoch 10/10\n",
            "10000/10000 [==============================] - 2s 241us/step - loss: 0.6619 - accuracy: 0.5747 - val_loss: 0.6291 - val_accuracy: 0.7983\n",
            "5000/5000 [==============================] - 0s 68us/step\n",
            "[CV] ........................... n_neurons=16, rate=0.6, total=  26.7s\n",
            "[CV] n_neurons=16, rate=0.6 ..........................................\n",
            "Train on 10000 samples, validate on 10000 samples\n",
            "Epoch 1/10\n",
            "10000/10000 [==============================] - 3s 266us/step - loss: 0.7009 - accuracy: 0.5051 - val_loss: 0.6936 - val_accuracy: 0.4947\n",
            "Epoch 2/10\n",
            "10000/10000 [==============================] - 2s 245us/step - loss: 0.6944 - accuracy: 0.5103 - val_loss: 0.6936 - val_accuracy: 0.4947\n",
            "Epoch 3/10\n",
            "10000/10000 [==============================] - 2s 247us/step - loss: 0.6941 - accuracy: 0.5055 - val_loss: 0.6932 - val_accuracy: 0.4947\n",
            "Epoch 4/10\n",
            "10000/10000 [==============================] - 2s 246us/step - loss: 0.6935 - accuracy: 0.5066 - val_loss: 0.6934 - val_accuracy: 0.4947\n",
            "Epoch 5/10\n",
            "10000/10000 [==============================] - 2s 238us/step - loss: 0.6904 - accuracy: 0.5288 - val_loss: 0.6888 - val_accuracy: 0.6181\n",
            "Epoch 6/10\n",
            "10000/10000 [==============================] - 2s 246us/step - loss: 0.6868 - accuracy: 0.5396 - val_loss: 0.6828 - val_accuracy: 0.7498\n",
            "Epoch 7/10\n",
            "10000/10000 [==============================] - 2s 235us/step - loss: 0.6822 - accuracy: 0.5539 - val_loss: 0.6723 - val_accuracy: 0.8242\n",
            "Epoch 8/10\n",
            "10000/10000 [==============================] - 2s 244us/step - loss: 0.6759 - accuracy: 0.5612 - val_loss: 0.6632 - val_accuracy: 0.8293\n",
            "Epoch 9/10\n",
            "10000/10000 [==============================] - 2s 237us/step - loss: 0.6689 - accuracy: 0.5731 - val_loss: 0.6502 - val_accuracy: 0.8322\n",
            "Epoch 10/10\n",
            "10000/10000 [==============================] - 2s 238us/step - loss: 0.6663 - accuracy: 0.5752 - val_loss: 0.6413 - val_accuracy: 0.8330\n",
            "5000/5000 [==============================] - 0s 66us/step\n",
            "[CV] ........................... n_neurons=16, rate=0.6, total=  25.9s\n",
            "[CV] n_neurons=32, rate=0.2 ..........................................\n",
            "Train on 10000 samples, validate on 10000 samples\n",
            "Epoch 1/10\n",
            "10000/10000 [==============================] - 3s 268us/step - loss: 0.6251 - accuracy: 0.6669 - val_loss: 0.5074 - val_accuracy: 0.8539\n",
            "Epoch 2/10\n",
            "10000/10000 [==============================] - 2s 242us/step - loss: 0.4728 - accuracy: 0.8137 - val_loss: 0.3905 - val_accuracy: 0.8757\n",
            "Epoch 3/10\n",
            "10000/10000 [==============================] - 2s 238us/step - loss: 0.4130 - accuracy: 0.8377 - val_loss: 0.3654 - val_accuracy: 0.8716\n",
            "Epoch 4/10\n",
            "10000/10000 [==============================] - 2s 248us/step - loss: 0.3884 - accuracy: 0.8491 - val_loss: 0.3520 - val_accuracy: 0.8788\n",
            "Epoch 5/10\n",
            "10000/10000 [==============================] - 3s 252us/step - loss: 0.3584 - accuracy: 0.8647 - val_loss: 0.3569 - val_accuracy: 0.8796\n",
            "Epoch 6/10\n",
            "10000/10000 [==============================] - 3s 251us/step - loss: 0.3598 - accuracy: 0.8651 - val_loss: 0.3543 - val_accuracy: 0.8754\n",
            "Epoch 7/10\n",
            "10000/10000 [==============================] - 2s 245us/step - loss: 0.3425 - accuracy: 0.8732 - val_loss: 0.3681 - val_accuracy: 0.8753\n",
            "Epoch 8/10\n",
            "10000/10000 [==============================] - 2s 250us/step - loss: 0.3388 - accuracy: 0.8728 - val_loss: 0.3660 - val_accuracy: 0.8742\n",
            "Epoch 9/10\n",
            "10000/10000 [==============================] - 2s 243us/step - loss: 0.3370 - accuracy: 0.8746 - val_loss: 0.3645 - val_accuracy: 0.8747\n",
            "Epoch 10/10\n",
            "10000/10000 [==============================] - 2s 245us/step - loss: 0.3402 - accuracy: 0.8721 - val_loss: 0.3826 - val_accuracy: 0.8761\n",
            "5000/5000 [==============================] - 0s 65us/step\n",
            "[CV] ........................... n_neurons=32, rate=0.2, total=  26.2s\n",
            "[CV] n_neurons=32, rate=0.2 ..........................................\n",
            "Train on 10000 samples, validate on 10000 samples\n",
            "Epoch 1/10\n",
            "10000/10000 [==============================] - 3s 262us/step - loss: 0.6674 - accuracy: 0.5875 - val_loss: 0.6025 - val_accuracy: 0.8663\n",
            "Epoch 2/10\n",
            "10000/10000 [==============================] - 3s 268us/step - loss: 0.5511 - accuracy: 0.7943 - val_loss: 0.4795 - val_accuracy: 0.8695\n",
            "Epoch 3/10\n",
            "10000/10000 [==============================] - 3s 264us/step - loss: 0.4592 - accuracy: 0.8260 - val_loss: 0.4023 - val_accuracy: 0.8712\n",
            "Epoch 4/10\n",
            "10000/10000 [==============================] - 3s 268us/step - loss: 0.4104 - accuracy: 0.8431 - val_loss: 0.3864 - val_accuracy: 0.8714\n",
            "Epoch 5/10\n",
            "10000/10000 [==============================] - 3s 251us/step - loss: 0.3885 - accuracy: 0.8521 - val_loss: 0.3745 - val_accuracy: 0.8734\n",
            "Epoch 6/10\n",
            "10000/10000 [==============================] - 2s 240us/step - loss: 0.3740 - accuracy: 0.8584 - val_loss: 0.3711 - val_accuracy: 0.8684\n",
            "Epoch 7/10\n",
            "10000/10000 [==============================] - 2s 236us/step - loss: 0.3741 - accuracy: 0.8614 - val_loss: 0.3733 - val_accuracy: 0.8617\n",
            "Epoch 8/10\n",
            "10000/10000 [==============================] - 2s 231us/step - loss: 0.3604 - accuracy: 0.8648 - val_loss: 0.3716 - val_accuracy: 0.8636\n",
            "Epoch 9/10\n",
            "10000/10000 [==============================] - 2s 222us/step - loss: 0.3480 - accuracy: 0.8729 - val_loss: 0.3741 - val_accuracy: 0.8638\n",
            "Epoch 10/10\n",
            "10000/10000 [==============================] - 2s 221us/step - loss: 0.3452 - accuracy: 0.8714 - val_loss: 0.3807 - val_accuracy: 0.8726\n",
            "5000/5000 [==============================] - 0s 63us/step\n",
            "[CV] ........................... n_neurons=32, rate=0.2, total=  26.1s\n",
            "[CV] n_neurons=32, rate=0.2 ..........................................\n",
            "Train on 10000 samples, validate on 10000 samples\n",
            "Epoch 1/10\n",
            "10000/10000 [==============================] - 2s 246us/step - loss: 0.6490 - accuracy: 0.6375 - val_loss: 0.5434 - val_accuracy: 0.8547\n",
            "Epoch 2/10\n",
            "10000/10000 [==============================] - 2s 228us/step - loss: 0.5147 - accuracy: 0.8017 - val_loss: 0.4533 - val_accuracy: 0.8550\n",
            "Epoch 3/10\n",
            "10000/10000 [==============================] - 2s 225us/step - loss: 0.4435 - accuracy: 0.8289 - val_loss: 0.4175 - val_accuracy: 0.8479\n",
            "Epoch 4/10\n",
            "10000/10000 [==============================] - 2s 225us/step - loss: 0.4005 - accuracy: 0.8440 - val_loss: 0.3902 - val_accuracy: 0.8676\n",
            "Epoch 5/10\n",
            "10000/10000 [==============================] - 2s 216us/step - loss: 0.3676 - accuracy: 0.8589 - val_loss: 0.3848 - val_accuracy: 0.8544\n",
            "Epoch 6/10\n",
            "10000/10000 [==============================] - 2s 222us/step - loss: 0.3555 - accuracy: 0.8614 - val_loss: 0.3790 - val_accuracy: 0.8699\n",
            "Epoch 7/10\n",
            "10000/10000 [==============================] - 2s 249us/step - loss: 0.3473 - accuracy: 0.8665 - val_loss: 0.3783 - val_accuracy: 0.8650\n",
            "Epoch 8/10\n",
            "10000/10000 [==============================] - 2s 229us/step - loss: 0.3336 - accuracy: 0.8772 - val_loss: 0.3980 - val_accuracy: 0.8752\n",
            "Epoch 9/10\n",
            "10000/10000 [==============================] - 2s 230us/step - loss: 0.3374 - accuracy: 0.8746 - val_loss: 0.3838 - val_accuracy: 0.8730\n",
            "Epoch 10/10\n",
            "10000/10000 [==============================] - 2s 229us/step - loss: 0.3289 - accuracy: 0.8776 - val_loss: 0.4044 - val_accuracy: 0.8743\n",
            "5000/5000 [==============================] - 0s 64us/step\n",
            "[CV] ........................... n_neurons=32, rate=0.2, total=  24.4s\n",
            "[CV] n_neurons=32, rate=0.4 ..........................................\n",
            "Train on 10000 samples, validate on 10000 samples\n",
            "Epoch 1/10\n",
            "10000/10000 [==============================] - 3s 252us/step - loss: 0.6973 - accuracy: 0.5051 - val_loss: 0.6932 - val_accuracy: 0.4947\n",
            "Epoch 2/10\n",
            "10000/10000 [==============================] - 2s 235us/step - loss: 0.6942 - accuracy: 0.5032 - val_loss: 0.6923 - val_accuracy: 0.5565\n",
            "Epoch 3/10\n",
            "10000/10000 [==============================] - 2s 225us/step - loss: 0.6876 - accuracy: 0.5427 - val_loss: 0.6509 - val_accuracy: 0.8017\n",
            "Epoch 4/10\n",
            "10000/10000 [==============================] - 2s 224us/step - loss: 0.6376 - accuracy: 0.6559 - val_loss: 0.5564 - val_accuracy: 0.8556\n",
            "Epoch 5/10\n",
            "10000/10000 [==============================] - 2s 217us/step - loss: 0.5939 - accuracy: 0.6998 - val_loss: 0.5258 - val_accuracy: 0.8318\n",
            "Epoch 6/10\n",
            "10000/10000 [==============================] - 2s 220us/step - loss: 0.5666 - accuracy: 0.7191 - val_loss: 0.4668 - val_accuracy: 0.8666\n",
            "Epoch 7/10\n",
            "10000/10000 [==============================] - 2s 225us/step - loss: 0.5609 - accuracy: 0.7250 - val_loss: 0.4604 - val_accuracy: 0.8690\n",
            "Epoch 8/10\n",
            "10000/10000 [==============================] - 2s 249us/step - loss: 0.5456 - accuracy: 0.7400 - val_loss: 0.4457 - val_accuracy: 0.8680\n",
            "Epoch 9/10\n",
            "10000/10000 [==============================] - 2s 242us/step - loss: 0.5377 - accuracy: 0.7454 - val_loss: 0.4495 - val_accuracy: 0.8569\n",
            "Epoch 10/10\n",
            "10000/10000 [==============================] - 2s 232us/step - loss: 0.5381 - accuracy: 0.7436 - val_loss: 0.4412 - val_accuracy: 0.8709\n",
            "5000/5000 [==============================] - 0s 72us/step\n",
            "[CV] ........................... n_neurons=32, rate=0.4, total=  24.7s\n",
            "[CV] n_neurons=32, rate=0.4 ..........................................\n",
            "Train on 10000 samples, validate on 10000 samples\n",
            "Epoch 1/10\n",
            "10000/10000 [==============================] - 2s 240us/step - loss: 0.6639 - accuracy: 0.5872 - val_loss: 0.5970 - val_accuracy: 0.8549\n",
            "Epoch 2/10\n",
            "10000/10000 [==============================] - 2s 236us/step - loss: 0.5908 - accuracy: 0.7019 - val_loss: 0.5147 - val_accuracy: 0.8539\n",
            "Epoch 3/10\n",
            "10000/10000 [==============================] - 2s 235us/step - loss: 0.5665 - accuracy: 0.7104 - val_loss: 0.4797 - val_accuracy: 0.8553\n",
            "Epoch 4/10\n",
            "10000/10000 [==============================] - 2s 224us/step - loss: 0.5532 - accuracy: 0.7254 - val_loss: 0.4720 - val_accuracy: 0.8485\n",
            "Epoch 5/10\n",
            "10000/10000 [==============================] - 2s 227us/step - loss: 0.5403 - accuracy: 0.7355 - val_loss: 0.4640 - val_accuracy: 0.8490\n",
            "Epoch 6/10\n",
            "10000/10000 [==============================] - 2s 238us/step - loss: 0.5359 - accuracy: 0.7395 - val_loss: 0.4487 - val_accuracy: 0.8566\n",
            "Epoch 7/10\n",
            "10000/10000 [==============================] - 2s 237us/step - loss: 0.5336 - accuracy: 0.7418 - val_loss: 0.4476 - val_accuracy: 0.8596\n",
            "Epoch 8/10\n",
            "10000/10000 [==============================] - 2s 234us/step - loss: 0.5283 - accuracy: 0.7453 - val_loss: 0.4453 - val_accuracy: 0.8540\n",
            "Epoch 9/10\n",
            "10000/10000 [==============================] - 2s 230us/step - loss: 0.5245 - accuracy: 0.7442 - val_loss: 0.4400 - val_accuracy: 0.8625\n",
            "Epoch 10/10\n",
            "10000/10000 [==============================] - 2s 228us/step - loss: 0.5077 - accuracy: 0.7549 - val_loss: 0.4278 - val_accuracy: 0.8646\n",
            "5000/5000 [==============================] - 0s 62us/step\n",
            "[CV] ........................... n_neurons=32, rate=0.4, total=  24.7s\n",
            "[CV] n_neurons=32, rate=0.4 ..........................................\n",
            "Train on 10000 samples, validate on 10000 samples\n",
            "Epoch 1/10\n",
            "10000/10000 [==============================] - 3s 268us/step - loss: 0.6936 - accuracy: 0.5013 - val_loss: 0.6930 - val_accuracy: 0.4948\n",
            "Epoch 2/10\n",
            "10000/10000 [==============================] - 2s 244us/step - loss: 0.6866 - accuracy: 0.5444 - val_loss: 0.6559 - val_accuracy: 0.7934\n",
            "Epoch 3/10\n",
            "10000/10000 [==============================] - 3s 255us/step - loss: 0.6318 - accuracy: 0.6618 - val_loss: 0.5536 - val_accuracy: 0.8601\n",
            "Epoch 4/10\n",
            "10000/10000 [==============================] - 3s 260us/step - loss: 0.5864 - accuracy: 0.7064 - val_loss: 0.5005 - val_accuracy: 0.8628\n",
            "Epoch 5/10\n",
            "10000/10000 [==============================] - 3s 263us/step - loss: 0.5584 - accuracy: 0.7259 - val_loss: 0.4817 - val_accuracy: 0.8546\n",
            "Epoch 6/10\n",
            "10000/10000 [==============================] - 3s 266us/step - loss: 0.5454 - accuracy: 0.7299 - val_loss: 0.4496 - val_accuracy: 0.8695\n",
            "Epoch 7/10\n",
            "10000/10000 [==============================] - 3s 263us/step - loss: 0.5355 - accuracy: 0.7405 - val_loss: 0.4426 - val_accuracy: 0.8653\n",
            "Epoch 8/10\n",
            "10000/10000 [==============================] - 3s 260us/step - loss: 0.5400 - accuracy: 0.7379 - val_loss: 0.4420 - val_accuracy: 0.8600\n",
            "Epoch 9/10\n",
            "10000/10000 [==============================] - 3s 257us/step - loss: 0.5343 - accuracy: 0.7433 - val_loss: 0.4375 - val_accuracy: 0.8679\n",
            "Epoch 10/10\n",
            "10000/10000 [==============================] - 2s 245us/step - loss: 0.5265 - accuracy: 0.7444 - val_loss: 0.4369 - val_accuracy: 0.8612\n",
            "5000/5000 [==============================] - 0s 65us/step\n",
            "[CV] ........................... n_neurons=32, rate=0.4, total=  27.3s\n",
            "[CV] n_neurons=32, rate=0.5 ..........................................\n",
            "Train on 10000 samples, validate on 10000 samples\n",
            "Epoch 1/10\n",
            "10000/10000 [==============================] - 3s 280us/step - loss: 0.6951 - accuracy: 0.5129 - val_loss: 0.6807 - val_accuracy: 0.8171\n",
            "Epoch 2/10\n",
            "10000/10000 [==============================] - 3s 257us/step - loss: 0.6711 - accuracy: 0.5734 - val_loss: 0.6255 - val_accuracy: 0.8448\n",
            "Epoch 3/10\n",
            "10000/10000 [==============================] - 3s 254us/step - loss: 0.6360 - accuracy: 0.6305 - val_loss: 0.5770 - val_accuracy: 0.8377\n",
            "Epoch 4/10\n",
            "10000/10000 [==============================] - 3s 258us/step - loss: 0.6157 - accuracy: 0.6527 - val_loss: 0.5526 - val_accuracy: 0.8296\n",
            "Epoch 5/10\n",
            "10000/10000 [==============================] - 2s 243us/step - loss: 0.6049 - accuracy: 0.6647 - val_loss: 0.5398 - val_accuracy: 0.8321\n",
            "Epoch 6/10\n",
            "10000/10000 [==============================] - 3s 253us/step - loss: 0.5955 - accuracy: 0.6774 - val_loss: 0.5352 - val_accuracy: 0.8229\n",
            "Epoch 7/10\n",
            "10000/10000 [==============================] - 3s 265us/step - loss: 0.5941 - accuracy: 0.6763 - val_loss: 0.5397 - val_accuracy: 0.8193\n",
            "Epoch 8/10\n",
            "10000/10000 [==============================] - 3s 257us/step - loss: 0.5901 - accuracy: 0.6788 - val_loss: 0.5333 - val_accuracy: 0.8245\n",
            "Epoch 9/10\n",
            "10000/10000 [==============================] - 3s 256us/step - loss: 0.5908 - accuracy: 0.6833 - val_loss: 0.5208 - val_accuracy: 0.8461\n",
            "Epoch 10/10\n",
            "10000/10000 [==============================] - 3s 258us/step - loss: 0.5826 - accuracy: 0.6875 - val_loss: 0.5268 - val_accuracy: 0.8344\n",
            "5000/5000 [==============================] - 0s 70us/step\n",
            "[CV] ........................... n_neurons=32, rate=0.5, total=  27.9s\n",
            "[CV] n_neurons=32, rate=0.5 ..........................................\n",
            "Train on 10000 samples, validate on 10000 samples\n",
            "Epoch 1/10\n",
            "10000/10000 [==============================] - 3s 285us/step - loss: 0.6930 - accuracy: 0.5138 - val_loss: 0.6869 - val_accuracy: 0.7268\n",
            "Epoch 2/10\n",
            "10000/10000 [==============================] - 3s 252us/step - loss: 0.6773 - accuracy: 0.5704 - val_loss: 0.6334 - val_accuracy: 0.8421\n",
            "Epoch 3/10\n",
            "10000/10000 [==============================] - 3s 257us/step - loss: 0.6343 - accuracy: 0.6454 - val_loss: 0.5720 - val_accuracy: 0.8287\n",
            "Epoch 4/10\n",
            "10000/10000 [==============================] - 2s 250us/step - loss: 0.6112 - accuracy: 0.6712 - val_loss: 0.5302 - val_accuracy: 0.8498\n",
            "Epoch 5/10\n",
            "10000/10000 [==============================] - 3s 260us/step - loss: 0.5921 - accuracy: 0.6924 - val_loss: 0.5017 - val_accuracy: 0.8599\n",
            "Epoch 6/10\n",
            "10000/10000 [==============================] - 3s 253us/step - loss: 0.5842 - accuracy: 0.6958 - val_loss: 0.4912 - val_accuracy: 0.8707\n",
            "Epoch 7/10\n",
            "10000/10000 [==============================] - 3s 260us/step - loss: 0.5810 - accuracy: 0.7007 - val_loss: 0.4816 - val_accuracy: 0.8725\n",
            "Epoch 8/10\n",
            "10000/10000 [==============================] - 3s 273us/step - loss: 0.5818 - accuracy: 0.6961 - val_loss: 0.4933 - val_accuracy: 0.8471\n",
            "Epoch 9/10\n",
            "10000/10000 [==============================] - 3s 269us/step - loss: 0.5726 - accuracy: 0.7056 - val_loss: 0.4806 - val_accuracy: 0.8675\n",
            "Epoch 10/10\n",
            "10000/10000 [==============================] - 3s 268us/step - loss: 0.5688 - accuracy: 0.7102 - val_loss: 0.4765 - val_accuracy: 0.8650\n",
            "5000/5000 [==============================] - 0s 71us/step\n",
            "[CV] ........................... n_neurons=32, rate=0.5, total=  27.8s\n",
            "[CV] n_neurons=32, rate=0.5 ..........................................\n",
            "Train on 10000 samples, validate on 10000 samples\n",
            "Epoch 1/10\n",
            "10000/10000 [==============================] - 3s 300us/step - loss: 0.7011 - accuracy: 0.4955 - val_loss: 0.6932 - val_accuracy: 0.4947\n",
            "Epoch 2/10\n",
            "10000/10000 [==============================] - 3s 259us/step - loss: 0.6942 - accuracy: 0.5039 - val_loss: 0.6918 - val_accuracy: 0.4947\n",
            "Epoch 3/10\n",
            "10000/10000 [==============================] - 3s 251us/step - loss: 0.6875 - accuracy: 0.5284 - val_loss: 0.6656 - val_accuracy: 0.8216\n",
            "Epoch 4/10\n",
            "10000/10000 [==============================] - 3s 257us/step - loss: 0.6577 - accuracy: 0.6079 - val_loss: 0.5974 - val_accuracy: 0.8495\n",
            "Epoch 5/10\n",
            "10000/10000 [==============================] - 3s 250us/step - loss: 0.6294 - accuracy: 0.6481 - val_loss: 0.5455 - val_accuracy: 0.8537\n",
            "Epoch 6/10\n",
            "10000/10000 [==============================] - 3s 256us/step - loss: 0.6089 - accuracy: 0.6691 - val_loss: 0.5349 - val_accuracy: 0.8502\n",
            "Epoch 7/10\n",
            "10000/10000 [==============================] - 3s 260us/step - loss: 0.6088 - accuracy: 0.6665 - val_loss: 0.5266 - val_accuracy: 0.8507\n",
            "Epoch 8/10\n",
            "10000/10000 [==============================] - 3s 257us/step - loss: 0.5979 - accuracy: 0.6779 - val_loss: 0.5249 - val_accuracy: 0.8365\n",
            "Epoch 9/10\n",
            "10000/10000 [==============================] - 3s 259us/step - loss: 0.5980 - accuracy: 0.6764 - val_loss: 0.5338 - val_accuracy: 0.8217\n",
            "Epoch 10/10\n",
            "10000/10000 [==============================] - 3s 260us/step - loss: 0.5952 - accuracy: 0.6812 - val_loss: 0.5384 - val_accuracy: 0.8207\n",
            "5000/5000 [==============================] - 0s 69us/step\n",
            "[CV] ........................... n_neurons=32, rate=0.5, total=  27.6s\n",
            "[CV] n_neurons=32, rate=0.6 ..........................................\n",
            "Train on 10000 samples, validate on 10000 samples\n",
            "Epoch 1/10\n",
            "10000/10000 [==============================] - 3s 276us/step - loss: 0.6935 - accuracy: 0.4969 - val_loss: 0.6927 - val_accuracy: 0.4947\n",
            "Epoch 2/10\n",
            "10000/10000 [==============================] - 2s 243us/step - loss: 0.6917 - accuracy: 0.5032 - val_loss: 0.6869 - val_accuracy: 0.5135\n",
            "Epoch 3/10\n",
            "10000/10000 [==============================] - 3s 257us/step - loss: 0.6828 - accuracy: 0.5370 - val_loss: 0.6613 - val_accuracy: 0.8465\n",
            "Epoch 4/10\n",
            "10000/10000 [==============================] - 3s 260us/step - loss: 0.6677 - accuracy: 0.5751 - val_loss: 0.6420 - val_accuracy: 0.8309\n",
            "Epoch 5/10\n",
            "10000/10000 [==============================] - 3s 255us/step - loss: 0.6562 - accuracy: 0.6024 - val_loss: 0.6013 - val_accuracy: 0.8515\n",
            "Epoch 6/10\n",
            "10000/10000 [==============================] - 3s 263us/step - loss: 0.6539 - accuracy: 0.5994 - val_loss: 0.6062 - val_accuracy: 0.8431\n",
            "Epoch 7/10\n",
            "10000/10000 [==============================] - 3s 257us/step - loss: 0.6537 - accuracy: 0.5980 - val_loss: 0.6010 - val_accuracy: 0.8269\n",
            "Epoch 8/10\n",
            "10000/10000 [==============================] - 3s 260us/step - loss: 0.6500 - accuracy: 0.6084 - val_loss: 0.5896 - val_accuracy: 0.8487\n",
            "Epoch 9/10\n",
            "10000/10000 [==============================] - 3s 265us/step - loss: 0.6473 - accuracy: 0.6090 - val_loss: 0.5930 - val_accuracy: 0.8386\n",
            "Epoch 10/10\n",
            "10000/10000 [==============================] - 3s 266us/step - loss: 0.6507 - accuracy: 0.6038 - val_loss: 0.5868 - val_accuracy: 0.8472\n",
            "5000/5000 [==============================] - 0s 77us/step\n",
            "[CV] ........................... n_neurons=32, rate=0.6, total=  27.5s\n",
            "[CV] n_neurons=32, rate=0.6 ..........................................\n",
            "Train on 10000 samples, validate on 10000 samples\n",
            "Epoch 1/10\n",
            "10000/10000 [==============================] - 3s 318us/step - loss: 0.6965 - accuracy: 0.4977 - val_loss: 0.6935 - val_accuracy: 0.4947\n",
            "Epoch 2/10\n",
            "10000/10000 [==============================] - 3s 280us/step - loss: 0.6935 - accuracy: 0.5099 - val_loss: 0.6934 - val_accuracy: 0.4947\n",
            "Epoch 3/10\n",
            "10000/10000 [==============================] - 3s 268us/step - loss: 0.6931 - accuracy: 0.5134 - val_loss: 0.6931 - val_accuracy: 0.4959\n",
            "Epoch 4/10\n",
            "10000/10000 [==============================] - 3s 264us/step - loss: 0.6924 - accuracy: 0.5190 - val_loss: 0.6869 - val_accuracy: 0.6706\n",
            "Epoch 5/10\n",
            "10000/10000 [==============================] - 3s 275us/step - loss: 0.6808 - accuracy: 0.5648 - val_loss: 0.6565 - val_accuracy: 0.8178\n",
            "Epoch 6/10\n",
            "10000/10000 [==============================] - 3s 271us/step - loss: 0.6620 - accuracy: 0.6008 - val_loss: 0.6383 - val_accuracy: 0.8181\n",
            "Epoch 7/10\n",
            "10000/10000 [==============================] - 3s 273us/step - loss: 0.6441 - accuracy: 0.6224 - val_loss: 0.6081 - val_accuracy: 0.8462\n",
            "Epoch 8/10\n",
            "10000/10000 [==============================] - 3s 273us/step - loss: 0.6412 - accuracy: 0.6290 - val_loss: 0.6031 - val_accuracy: 0.8382\n",
            "Epoch 9/10\n",
            "10000/10000 [==============================] - 3s 274us/step - loss: 0.6359 - accuracy: 0.6334 - val_loss: 0.6076 - val_accuracy: 0.8080\n",
            "Epoch 10/10\n",
            "10000/10000 [==============================] - 3s 267us/step - loss: 0.6310 - accuracy: 0.6405 - val_loss: 0.6001 - val_accuracy: 0.8266\n",
            "5000/5000 [==============================] - 0s 78us/step\n",
            "[CV] ........................... n_neurons=32, rate=0.6, total=  29.2s\n",
            "[CV] n_neurons=32, rate=0.6 ..........................................\n",
            "Train on 10000 samples, validate on 10000 samples\n",
            "Epoch 1/10\n",
            "10000/10000 [==============================] - 3s 297us/step - loss: 0.6967 - accuracy: 0.5057 - val_loss: 0.6931 - val_accuracy: 0.4947\n",
            "Epoch 2/10\n",
            "10000/10000 [==============================] - 3s 274us/step - loss: 0.6944 - accuracy: 0.4997 - val_loss: 0.6933 - val_accuracy: 0.4947\n",
            "Epoch 3/10\n",
            "10000/10000 [==============================] - 3s 270us/step - loss: 0.6933 - accuracy: 0.5064 - val_loss: 0.6929 - val_accuracy: 0.5403\n",
            "Epoch 4/10\n",
            "10000/10000 [==============================] - 3s 265us/step - loss: 0.6924 - accuracy: 0.5179 - val_loss: 0.6917 - val_accuracy: 0.7110\n",
            "Epoch 5/10\n",
            "10000/10000 [==============================] - 3s 271us/step - loss: 0.6908 - accuracy: 0.5281 - val_loss: 0.6876 - val_accuracy: 0.6637\n",
            "Epoch 6/10\n",
            "10000/10000 [==============================] - 3s 271us/step - loss: 0.6825 - accuracy: 0.5661 - val_loss: 0.6714 - val_accuracy: 0.8229\n",
            "Epoch 7/10\n",
            "10000/10000 [==============================] - 3s 265us/step - loss: 0.6742 - accuracy: 0.5797 - val_loss: 0.6605 - val_accuracy: 0.8132\n",
            "Epoch 8/10\n",
            "10000/10000 [==============================] - 3s 273us/step - loss: 0.6655 - accuracy: 0.5966 - val_loss: 0.6423 - val_accuracy: 0.8332\n",
            "Epoch 9/10\n",
            "10000/10000 [==============================] - 3s 271us/step - loss: 0.6596 - accuracy: 0.6037 - val_loss: 0.6382 - val_accuracy: 0.8327\n",
            "Epoch 10/10\n",
            "10000/10000 [==============================] - 3s 265us/step - loss: 0.6586 - accuracy: 0.6078 - val_loss: 0.6380 - val_accuracy: 0.8231\n",
            "5000/5000 [==============================] - 0s 67us/step\n",
            "[CV] ........................... n_neurons=32, rate=0.6, total=  28.8s\n",
            "[CV] n_neurons=64, rate=0.2 ..........................................\n",
            "Train on 10000 samples, validate on 10000 samples\n",
            "Epoch 1/10\n",
            "10000/10000 [==============================] - 3s 282us/step - loss: 0.6742 - accuracy: 0.5684 - val_loss: 0.5804 - val_accuracy: 0.8247\n",
            "Epoch 2/10\n",
            "10000/10000 [==============================] - 3s 257us/step - loss: 0.5211 - accuracy: 0.7915 - val_loss: 0.4185 - val_accuracy: 0.8692\n",
            "Epoch 3/10\n",
            "10000/10000 [==============================] - 2s 248us/step - loss: 0.4315 - accuracy: 0.8263 - val_loss: 0.4057 - val_accuracy: 0.8393\n",
            "Epoch 4/10\n",
            "10000/10000 [==============================] - 3s 253us/step - loss: 0.3872 - accuracy: 0.8487 - val_loss: 0.3600 - val_accuracy: 0.8755\n",
            "Epoch 5/10\n",
            "10000/10000 [==============================] - 2s 241us/step - loss: 0.3777 - accuracy: 0.8536 - val_loss: 0.3523 - val_accuracy: 0.8777\n",
            "Epoch 6/10\n",
            "10000/10000 [==============================] - 3s 257us/step - loss: 0.3498 - accuracy: 0.8705 - val_loss: 0.3592 - val_accuracy: 0.8783\n",
            "Epoch 7/10\n",
            "10000/10000 [==============================] - 3s 253us/step - loss: 0.3508 - accuracy: 0.8686 - val_loss: 0.3626 - val_accuracy: 0.8685\n",
            "Epoch 8/10\n",
            "10000/10000 [==============================] - 3s 279us/step - loss: 0.3358 - accuracy: 0.8768 - val_loss: 0.3672 - val_accuracy: 0.8693\n",
            "Epoch 9/10\n",
            "10000/10000 [==============================] - 3s 283us/step - loss: 0.3275 - accuracy: 0.8820 - val_loss: 0.3646 - val_accuracy: 0.8743\n",
            "Epoch 10/10\n",
            "10000/10000 [==============================] - 3s 281us/step - loss: 0.3343 - accuracy: 0.8783 - val_loss: 0.3726 - val_accuracy: 0.8704\n",
            "5000/5000 [==============================] - 0s 77us/step\n",
            "[CV] ........................... n_neurons=64, rate=0.2, total=  27.9s\n",
            "[CV] n_neurons=64, rate=0.2 ..........................................\n",
            "Train on 10000 samples, validate on 10000 samples\n",
            "Epoch 1/10\n",
            "10000/10000 [==============================] - 3s 272us/step - loss: 0.6120 - accuracy: 0.6782 - val_loss: 0.5101 - val_accuracy: 0.8365\n",
            "Epoch 2/10\n",
            "10000/10000 [==============================] - 3s 254us/step - loss: 0.4598 - accuracy: 0.8171 - val_loss: 0.3879 - val_accuracy: 0.8717\n",
            "Epoch 3/10\n",
            "10000/10000 [==============================] - 2s 246us/step - loss: 0.4003 - accuracy: 0.8410 - val_loss: 0.3664 - val_accuracy: 0.8752\n",
            "Epoch 4/10\n",
            "10000/10000 [==============================] - 3s 266us/step - loss: 0.3773 - accuracy: 0.8507 - val_loss: 0.3685 - val_accuracy: 0.8755\n",
            "Epoch 5/10\n",
            "10000/10000 [==============================] - 3s 265us/step - loss: 0.3574 - accuracy: 0.8654 - val_loss: 0.3601 - val_accuracy: 0.8736\n",
            "Epoch 6/10\n",
            "10000/10000 [==============================] - 3s 276us/step - loss: 0.3491 - accuracy: 0.8684 - val_loss: 0.3550 - val_accuracy: 0.8747\n",
            "Epoch 7/10\n",
            "10000/10000 [==============================] - 3s 260us/step - loss: 0.3474 - accuracy: 0.8687 - val_loss: 0.3751 - val_accuracy: 0.8760\n",
            "Epoch 8/10\n",
            "10000/10000 [==============================] - 3s 258us/step - loss: 0.3330 - accuracy: 0.8753 - val_loss: 0.3729 - val_accuracy: 0.8652\n",
            "Epoch 9/10\n",
            "10000/10000 [==============================] - 3s 258us/step - loss: 0.3344 - accuracy: 0.8749 - val_loss: 0.3878 - val_accuracy: 0.8732\n",
            "Epoch 10/10\n",
            "10000/10000 [==============================] - 3s 258us/step - loss: 0.3321 - accuracy: 0.8735 - val_loss: 0.4040 - val_accuracy: 0.8713\n",
            "5000/5000 [==============================] - 0s 70us/step\n",
            "[CV] ........................... n_neurons=64, rate=0.2, total=  27.6s\n",
            "[CV] n_neurons=64, rate=0.2 ..........................................\n",
            "Train on 10000 samples, validate on 10000 samples\n",
            "Epoch 1/10\n",
            "10000/10000 [==============================] - 3s 287us/step - loss: 0.6273 - accuracy: 0.6747 - val_loss: 0.5099 - val_accuracy: 0.8613\n",
            "Epoch 2/10\n",
            "10000/10000 [==============================] - 3s 257us/step - loss: 0.4692 - accuracy: 0.8191 - val_loss: 0.3979 - val_accuracy: 0.8663\n",
            "Epoch 3/10\n",
            "10000/10000 [==============================] - 3s 260us/step - loss: 0.4071 - accuracy: 0.8395 - val_loss: 0.3882 - val_accuracy: 0.8679\n",
            "Epoch 4/10\n",
            "10000/10000 [==============================] - 3s 250us/step - loss: 0.3753 - accuracy: 0.8559 - val_loss: 0.3607 - val_accuracy: 0.8645\n",
            "Epoch 5/10\n",
            "10000/10000 [==============================] - 2s 246us/step - loss: 0.3603 - accuracy: 0.8648 - val_loss: 0.3665 - val_accuracy: 0.8619\n",
            "Epoch 6/10\n",
            "10000/10000 [==============================] - 2s 245us/step - loss: 0.3385 - accuracy: 0.8727 - val_loss: 0.3671 - val_accuracy: 0.8750\n",
            "Epoch 7/10\n",
            "10000/10000 [==============================] - 2s 250us/step - loss: 0.3331 - accuracy: 0.8761 - val_loss: 0.3767 - val_accuracy: 0.8749\n",
            "Epoch 8/10\n",
            "10000/10000 [==============================] - 3s 251us/step - loss: 0.3199 - accuracy: 0.8828 - val_loss: 0.3792 - val_accuracy: 0.8680\n",
            "Epoch 9/10\n",
            "10000/10000 [==============================] - 3s 250us/step - loss: 0.3211 - accuracy: 0.8811 - val_loss: 0.3765 - val_accuracy: 0.8647\n",
            "Epoch 10/10\n",
            "10000/10000 [==============================] - 3s 252us/step - loss: 0.3164 - accuracy: 0.8833 - val_loss: 0.3905 - val_accuracy: 0.8542\n",
            "5000/5000 [==============================] - 0s 71us/step\n",
            "[CV] ........................... n_neurons=64, rate=0.2, total=  27.0s\n",
            "[CV] n_neurons=64, rate=0.4 ..........................................\n",
            "Train on 10000 samples, validate on 10000 samples\n",
            "Epoch 1/10\n",
            "10000/10000 [==============================] - 3s 275us/step - loss: 0.6706 - accuracy: 0.5639 - val_loss: 0.5971 - val_accuracy: 0.8562\n",
            "Epoch 2/10\n",
            "10000/10000 [==============================] - 2s 248us/step - loss: 0.5838 - accuracy: 0.7005 - val_loss: 0.5103 - val_accuracy: 0.8447\n",
            "Epoch 3/10\n",
            "10000/10000 [==============================] - 3s 257us/step - loss: 0.5491 - accuracy: 0.7293 - val_loss: 0.4721 - val_accuracy: 0.8508\n",
            "Epoch 4/10\n",
            "10000/10000 [==============================] - 3s 256us/step - loss: 0.5361 - accuracy: 0.7330 - val_loss: 0.4549 - val_accuracy: 0.8460\n",
            "Epoch 5/10\n",
            "10000/10000 [==============================] - 2s 249us/step - loss: 0.5322 - accuracy: 0.7330 - val_loss: 0.4487 - val_accuracy: 0.8552\n",
            "Epoch 6/10\n",
            "10000/10000 [==============================] - 3s 252us/step - loss: 0.5342 - accuracy: 0.7323 - val_loss: 0.4448 - val_accuracy: 0.8541\n",
            "Epoch 7/10\n",
            "10000/10000 [==============================] - 3s 251us/step - loss: 0.5240 - accuracy: 0.7443 - val_loss: 0.4438 - val_accuracy: 0.8498\n",
            "Epoch 8/10\n",
            "10000/10000 [==============================] - 2s 248us/step - loss: 0.5191 - accuracy: 0.7447 - val_loss: 0.4347 - val_accuracy: 0.8655\n",
            "Epoch 9/10\n",
            "10000/10000 [==============================] - 3s 255us/step - loss: 0.5095 - accuracy: 0.7545 - val_loss: 0.4300 - val_accuracy: 0.8593\n",
            "Epoch 10/10\n",
            "10000/10000 [==============================] - 3s 254us/step - loss: 0.5142 - accuracy: 0.7491 - val_loss: 0.4287 - val_accuracy: 0.8663\n",
            "5000/5000 [==============================] - 0s 71us/step\n",
            "[CV] ........................... n_neurons=64, rate=0.4, total=  27.0s\n",
            "[CV] n_neurons=64, rate=0.4 ..........................................\n",
            "Train on 10000 samples, validate on 10000 samples\n",
            "Epoch 1/10\n",
            "10000/10000 [==============================] - 3s 289us/step - loss: 0.6935 - accuracy: 0.5059 - val_loss: 0.6931 - val_accuracy: 0.5086\n",
            "Epoch 2/10\n",
            "10000/10000 [==============================] - 3s 265us/step - loss: 0.6743 - accuracy: 0.5421 - val_loss: 0.6172 - val_accuracy: 0.8294\n",
            "Epoch 3/10\n",
            "10000/10000 [==============================] - 3s 260us/step - loss: 0.5940 - accuracy: 0.6958 - val_loss: 0.5220 - val_accuracy: 0.8581\n",
            "Epoch 4/10\n",
            "10000/10000 [==============================] - 3s 259us/step - loss: 0.5529 - accuracy: 0.7310 - val_loss: 0.4875 - val_accuracy: 0.8483\n",
            "Epoch 5/10\n",
            "10000/10000 [==============================] - 3s 259us/step - loss: 0.5445 - accuracy: 0.7284 - val_loss: 0.4728 - val_accuracy: 0.8492\n",
            "Epoch 6/10\n",
            "10000/10000 [==============================] - 3s 267us/step - loss: 0.5341 - accuracy: 0.7338 - val_loss: 0.4815 - val_accuracy: 0.8334\n",
            "Epoch 7/10\n",
            "10000/10000 [==============================] - 3s 265us/step - loss: 0.5271 - accuracy: 0.7386 - val_loss: 0.4609 - val_accuracy: 0.8467\n",
            "Epoch 8/10\n",
            "10000/10000 [==============================] - 3s 265us/step - loss: 0.5206 - accuracy: 0.7426 - val_loss: 0.4575 - val_accuracy: 0.8492\n",
            "Epoch 9/10\n",
            "10000/10000 [==============================] - 3s 262us/step - loss: 0.5167 - accuracy: 0.7510 - val_loss: 0.4501 - val_accuracy: 0.8542\n",
            "Epoch 10/10\n",
            "10000/10000 [==============================] - 3s 265us/step - loss: 0.5104 - accuracy: 0.7519 - val_loss: 0.4586 - val_accuracy: 0.8434\n",
            "5000/5000 [==============================] - 0s 77us/step\n",
            "[CV] ........................... n_neurons=64, rate=0.4, total=  28.1s\n",
            "[CV] n_neurons=64, rate=0.4 ..........................................\n",
            "Train on 10000 samples, validate on 10000 samples\n",
            "Epoch 1/10\n",
            "10000/10000 [==============================] - 3s 300us/step - loss: 0.6939 - accuracy: 0.5105 - val_loss: 0.6910 - val_accuracy: 0.5053\n",
            "Epoch 2/10\n",
            "10000/10000 [==============================] - 3s 270us/step - loss: 0.6587 - accuracy: 0.6000 - val_loss: 0.5819 - val_accuracy: 0.8429\n",
            "Epoch 3/10\n",
            "10000/10000 [==============================] - 3s 270us/step - loss: 0.5848 - accuracy: 0.7055 - val_loss: 0.4882 - val_accuracy: 0.8589\n",
            "Epoch 4/10\n",
            "10000/10000 [==============================] - 3s 268us/step - loss: 0.5510 - accuracy: 0.7240 - val_loss: 0.4637 - val_accuracy: 0.8515\n",
            "Epoch 5/10\n",
            "10000/10000 [==============================] - 3s 264us/step - loss: 0.5359 - accuracy: 0.7385 - val_loss: 0.4440 - val_accuracy: 0.8613\n",
            "Epoch 6/10\n",
            "10000/10000 [==============================] - 3s 262us/step - loss: 0.5358 - accuracy: 0.7393 - val_loss: 0.4420 - val_accuracy: 0.8639\n",
            "Epoch 7/10\n",
            "10000/10000 [==============================] - 3s 268us/step - loss: 0.5196 - accuracy: 0.7478 - val_loss: 0.4316 - val_accuracy: 0.8647\n",
            "Epoch 8/10\n",
            "10000/10000 [==============================] - 3s 264us/step - loss: 0.5163 - accuracy: 0.7507 - val_loss: 0.4266 - val_accuracy: 0.8634\n",
            "Epoch 9/10\n",
            "10000/10000 [==============================] - 3s 251us/step - loss: 0.5156 - accuracy: 0.7520 - val_loss: 0.4190 - val_accuracy: 0.8711\n",
            "Epoch 10/10\n",
            "10000/10000 [==============================] - 2s 247us/step - loss: 0.5115 - accuracy: 0.7547 - val_loss: 0.4154 - val_accuracy: 0.8743\n",
            "5000/5000 [==============================] - 0s 68us/step\n",
            "[CV] ........................... n_neurons=64, rate=0.4, total=  28.8s\n",
            "[CV] n_neurons=64, rate=0.5 ..........................................\n",
            "Train on 10000 samples, validate on 10000 samples\n",
            "Epoch 1/10\n",
            "10000/10000 [==============================] - 3s 288us/step - loss: 0.6883 - accuracy: 0.5292 - val_loss: 0.6593 - val_accuracy: 0.8205\n",
            "Epoch 2/10\n",
            "10000/10000 [==============================] - 3s 269us/step - loss: 0.6398 - accuracy: 0.6395 - val_loss: 0.5663 - val_accuracy: 0.8491\n",
            "Epoch 3/10\n",
            "10000/10000 [==============================] - 3s 259us/step - loss: 0.6018 - accuracy: 0.6739 - val_loss: 0.5340 - val_accuracy: 0.8321\n",
            "Epoch 4/10\n",
            "10000/10000 [==============================] - 3s 251us/step - loss: 0.5957 - accuracy: 0.6813 - val_loss: 0.5055 - val_accuracy: 0.8508\n",
            "Epoch 5/10\n",
            "10000/10000 [==============================] - 3s 250us/step - loss: 0.5841 - accuracy: 0.6906 - val_loss: 0.4890 - val_accuracy: 0.8551\n",
            "Epoch 6/10\n",
            "10000/10000 [==============================] - 3s 257us/step - loss: 0.5755 - accuracy: 0.6965 - val_loss: 0.4881 - val_accuracy: 0.8461\n",
            "Epoch 7/10\n",
            "10000/10000 [==============================] - 3s 252us/step - loss: 0.5650 - accuracy: 0.7050 - val_loss: 0.4794 - val_accuracy: 0.8474\n",
            "Epoch 8/10\n",
            "10000/10000 [==============================] - 2s 247us/step - loss: 0.5686 - accuracy: 0.7030 - val_loss: 0.4724 - val_accuracy: 0.8611\n",
            "Epoch 9/10\n",
            "10000/10000 [==============================] - 2s 245us/step - loss: 0.5758 - accuracy: 0.6975 - val_loss: 0.4676 - val_accuracy: 0.8678\n",
            "Epoch 10/10\n",
            "10000/10000 [==============================] - 2s 236us/step - loss: 0.5638 - accuracy: 0.7097 - val_loss: 0.4686 - val_accuracy: 0.8662\n",
            "5000/5000 [==============================] - 0s 65us/step\n",
            "[CV] ........................... n_neurons=64, rate=0.5, total=  27.0s\n",
            "[CV] n_neurons=64, rate=0.5 ..........................................\n",
            "Train on 10000 samples, validate on 10000 samples\n",
            "Epoch 1/10\n",
            "10000/10000 [==============================] - 3s 262us/step - loss: 0.6768 - accuracy: 0.5509 - val_loss: 0.6212 - val_accuracy: 0.8274\n",
            "Epoch 2/10\n",
            "10000/10000 [==============================] - 2s 233us/step - loss: 0.6199 - accuracy: 0.6505 - val_loss: 0.5573 - val_accuracy: 0.8294\n",
            "Epoch 3/10\n",
            "10000/10000 [==============================] - 2s 227us/step - loss: 0.6062 - accuracy: 0.6632 - val_loss: 0.5345 - val_accuracy: 0.8329\n",
            "Epoch 4/10\n",
            "10000/10000 [==============================] - 2s 215us/step - loss: 0.5999 - accuracy: 0.6694 - val_loss: 0.5274 - val_accuracy: 0.8293\n",
            "Epoch 5/10\n",
            "10000/10000 [==============================] - 2s 212us/step - loss: 0.5884 - accuracy: 0.6802 - val_loss: 0.5238 - val_accuracy: 0.8323\n",
            "Epoch 6/10\n",
            "10000/10000 [==============================] - 2s 200us/step - loss: 0.5771 - accuracy: 0.6874 - val_loss: 0.5036 - val_accuracy: 0.8390\n",
            "Epoch 7/10\n",
            "10000/10000 [==============================] - 2s 201us/step - loss: 0.5840 - accuracy: 0.6832 - val_loss: 0.5210 - val_accuracy: 0.8303\n",
            "Epoch 8/10\n",
            "10000/10000 [==============================] - 2s 202us/step - loss: 0.5775 - accuracy: 0.6943 - val_loss: 0.5139 - val_accuracy: 0.8339\n",
            "Epoch 9/10\n",
            "10000/10000 [==============================] - 2s 203us/step - loss: 0.5736 - accuracy: 0.6886 - val_loss: 0.5058 - val_accuracy: 0.8323\n",
            "Epoch 10/10\n",
            "10000/10000 [==============================] - 2s 200us/step - loss: 0.5784 - accuracy: 0.6933 - val_loss: 0.5047 - val_accuracy: 0.8525\n",
            "5000/5000 [==============================] - 0s 60us/step\n",
            "[CV] ........................... n_neurons=64, rate=0.5, total=  23.0s\n",
            "[CV] n_neurons=64, rate=0.5 ..........................................\n",
            "Train on 10000 samples, validate on 10000 samples\n",
            "Epoch 1/10\n",
            "10000/10000 [==============================] - 2s 218us/step - loss: 0.6850 - accuracy: 0.5358 - val_loss: 0.6372 - val_accuracy: 0.8367\n",
            "Epoch 2/10\n",
            "10000/10000 [==============================] - 2s 197us/step - loss: 0.6326 - accuracy: 0.6374 - val_loss: 0.5749 - val_accuracy: 0.8187\n",
            "Epoch 3/10\n",
            "10000/10000 [==============================] - 2s 201us/step - loss: 0.6102 - accuracy: 0.6550 - val_loss: 0.5394 - val_accuracy: 0.8292\n",
            "Epoch 4/10\n",
            "10000/10000 [==============================] - 2s 198us/step - loss: 0.6103 - accuracy: 0.6574 - val_loss: 0.5457 - val_accuracy: 0.8182\n",
            "Epoch 5/10\n",
            "10000/10000 [==============================] - 2s 198us/step - loss: 0.6022 - accuracy: 0.6690 - val_loss: 0.5630 - val_accuracy: 0.7907\n",
            "Epoch 6/10\n",
            "10000/10000 [==============================] - 2s 198us/step - loss: 0.6020 - accuracy: 0.6645 - val_loss: 0.5411 - val_accuracy: 0.8136\n",
            "Epoch 7/10\n",
            "10000/10000 [==============================] - 2s 201us/step - loss: 0.5967 - accuracy: 0.6707 - val_loss: 0.5400 - val_accuracy: 0.8230\n",
            "Epoch 8/10\n",
            "10000/10000 [==============================] - 2s 196us/step - loss: 0.5804 - accuracy: 0.6820 - val_loss: 0.5289 - val_accuracy: 0.8220\n",
            "Epoch 9/10\n",
            "10000/10000 [==============================] - 2s 198us/step - loss: 0.5866 - accuracy: 0.6837 - val_loss: 0.5371 - val_accuracy: 0.8235\n",
            "Epoch 10/10\n",
            "10000/10000 [==============================] - 2s 197us/step - loss: 0.5849 - accuracy: 0.6814 - val_loss: 0.5328 - val_accuracy: 0.8129\n",
            "5000/5000 [==============================] - 0s 56us/step\n",
            "[CV] ........................... n_neurons=64, rate=0.5, total=  21.4s\n",
            "[CV] n_neurons=64, rate=0.6 ..........................................\n",
            "Train on 10000 samples, validate on 10000 samples\n",
            "Epoch 1/10\n",
            "10000/10000 [==============================] - 2s 218us/step - loss: 0.6936 - accuracy: 0.5035 - val_loss: 0.6886 - val_accuracy: 0.5521\n",
            "Epoch 2/10\n",
            "10000/10000 [==============================] - 2s 198us/step - loss: 0.6830 - accuracy: 0.5417 - val_loss: 0.6572 - val_accuracy: 0.8349\n",
            "Epoch 3/10\n",
            "10000/10000 [==============================] - 2s 198us/step - loss: 0.6613 - accuracy: 0.5882 - val_loss: 0.6100 - val_accuracy: 0.8481\n",
            "Epoch 4/10\n",
            "10000/10000 [==============================] - 2s 197us/step - loss: 0.6390 - accuracy: 0.6195 - val_loss: 0.5816 - val_accuracy: 0.8397\n",
            "Epoch 5/10\n",
            "10000/10000 [==============================] - 2s 209us/step - loss: 0.6340 - accuracy: 0.6354 - val_loss: 0.5848 - val_accuracy: 0.8165\n",
            "Epoch 6/10\n",
            "10000/10000 [==============================] - 2s 216us/step - loss: 0.6351 - accuracy: 0.6286 - val_loss: 0.5795 - val_accuracy: 0.8306\n",
            "Epoch 7/10\n",
            "10000/10000 [==============================] - 2s 212us/step - loss: 0.6274 - accuracy: 0.6348 - val_loss: 0.5701 - val_accuracy: 0.8346\n",
            "Epoch 8/10\n",
            "10000/10000 [==============================] - 2s 199us/step - loss: 0.6253 - accuracy: 0.6368 - val_loss: 0.5718 - val_accuracy: 0.8177\n",
            "Epoch 9/10\n",
            "10000/10000 [==============================] - 2s 199us/step - loss: 0.6331 - accuracy: 0.6300 - val_loss: 0.5679 - val_accuracy: 0.8333\n",
            "Epoch 10/10\n",
            "10000/10000 [==============================] - 2s 205us/step - loss: 0.6244 - accuracy: 0.6427 - val_loss: 0.5747 - val_accuracy: 0.8233\n",
            "5000/5000 [==============================] - 0s 58us/step\n",
            "[CV] ........................... n_neurons=64, rate=0.6, total=  21.9s\n",
            "[CV] n_neurons=64, rate=0.6 ..........................................\n",
            "Train on 10000 samples, validate on 10000 samples\n",
            "Epoch 1/10\n",
            "10000/10000 [==============================] - 2s 215us/step - loss: 0.6942 - accuracy: 0.5096 - val_loss: 0.6923 - val_accuracy: 0.5465\n",
            "Epoch 2/10\n",
            "10000/10000 [==============================] - 2s 194us/step - loss: 0.6864 - accuracy: 0.5462 - val_loss: 0.6664 - val_accuracy: 0.8167\n",
            "Epoch 3/10\n",
            "10000/10000 [==============================] - 2s 195us/step - loss: 0.6606 - accuracy: 0.6006 - val_loss: 0.6110 - val_accuracy: 0.8457\n",
            "Epoch 4/10\n",
            "10000/10000 [==============================] - 2s 195us/step - loss: 0.6373 - accuracy: 0.6325 - val_loss: 0.5737 - val_accuracy: 0.8486\n",
            "Epoch 5/10\n",
            "10000/10000 [==============================] - 2s 198us/step - loss: 0.6295 - accuracy: 0.6392 - val_loss: 0.5646 - val_accuracy: 0.8406\n",
            "Epoch 6/10\n",
            "10000/10000 [==============================] - 2s 197us/step - loss: 0.6273 - accuracy: 0.6446 - val_loss: 0.5676 - val_accuracy: 0.8345\n",
            "Epoch 7/10\n",
            "10000/10000 [==============================] - 2s 196us/step - loss: 0.6227 - accuracy: 0.6452 - val_loss: 0.5497 - val_accuracy: 0.8525\n",
            "Epoch 8/10\n",
            "10000/10000 [==============================] - 2s 195us/step - loss: 0.6251 - accuracy: 0.6454 - val_loss: 0.5425 - val_accuracy: 0.8515\n",
            "Epoch 9/10\n",
            "10000/10000 [==============================] - 2s 195us/step - loss: 0.6200 - accuracy: 0.6495 - val_loss: 0.5584 - val_accuracy: 0.8392\n",
            "Epoch 10/10\n",
            "10000/10000 [==============================] - 2s 197us/step - loss: 0.6190 - accuracy: 0.6526 - val_loss: 0.5589 - val_accuracy: 0.8342\n",
            "5000/5000 [==============================] - 0s 57us/step\n",
            "[CV] ........................... n_neurons=64, rate=0.6, total=  21.1s\n",
            "[CV] n_neurons=64, rate=0.6 ..........................................\n",
            "Train on 10000 samples, validate on 10000 samples\n",
            "Epoch 1/10\n",
            "10000/10000 [==============================] - 2s 225us/step - loss: 0.6984 - accuracy: 0.5032 - val_loss: 0.6932 - val_accuracy: 0.5037\n",
            "Epoch 2/10\n",
            "10000/10000 [==============================] - 2s 203us/step - loss: 0.6940 - accuracy: 0.4958 - val_loss: 0.6931 - val_accuracy: 0.4966\n",
            "Epoch 3/10\n",
            "10000/10000 [==============================] - 2s 206us/step - loss: 0.6934 - accuracy: 0.5056 - val_loss: 0.6926 - val_accuracy: 0.5371\n",
            "Epoch 4/10\n",
            "10000/10000 [==============================] - 2s 203us/step - loss: 0.6928 - accuracy: 0.5109 - val_loss: 0.6901 - val_accuracy: 0.6833\n",
            "Epoch 5/10\n",
            "10000/10000 [==============================] - 2s 207us/step - loss: 0.6842 - accuracy: 0.5576 - val_loss: 0.6670 - val_accuracy: 0.8243\n",
            "Epoch 6/10\n",
            "10000/10000 [==============================] - 2s 206us/step - loss: 0.6712 - accuracy: 0.5883 - val_loss: 0.6471 - val_accuracy: 0.8415\n",
            "Epoch 7/10\n",
            "10000/10000 [==============================] - 2s 223us/step - loss: 0.6574 - accuracy: 0.6135 - val_loss: 0.6332 - val_accuracy: 0.8175\n",
            "Epoch 8/10\n",
            "10000/10000 [==============================] - 2s 224us/step - loss: 0.6481 - accuracy: 0.6245 - val_loss: 0.6235 - val_accuracy: 0.8312\n",
            "Epoch 9/10\n",
            "10000/10000 [==============================] - 2s 226us/step - loss: 0.6527 - accuracy: 0.6205 - val_loss: 0.6262 - val_accuracy: 0.8390\n",
            "Epoch 10/10\n",
            "10000/10000 [==============================] - 2s 213us/step - loss: 0.6507 - accuracy: 0.6236 - val_loss: 0.6318 - val_accuracy: 0.8211\n",
            "5000/5000 [==============================] - 0s 58us/step\n",
            "[CV] ........................... n_neurons=64, rate=0.6, total=  22.8s\n"
          ],
          "name": "stdout"
        },
        {
          "output_type": "stream",
          "text": [
            "[Parallel(n_jobs=1)]: Done  36 out of  36 | elapsed: 15.4min finished\n"
          ],
          "name": "stderr"
        },
        {
          "output_type": "stream",
          "text": [
            "Train on 15000 samples, validate on 10000 samples\n",
            "Epoch 1/10\n",
            "15000/15000 [==============================] - 3s 213us/step - loss: 0.6403 - accuracy: 0.6606 - val_loss: 0.5445 - val_accuracy: 0.8707\n",
            "Epoch 2/10\n",
            "15000/15000 [==============================] - 3s 187us/step - loss: 0.5103 - accuracy: 0.7949 - val_loss: 0.4192 - val_accuracy: 0.8699\n",
            "Epoch 3/10\n",
            "15000/15000 [==============================] - 3s 193us/step - loss: 0.4459 - accuracy: 0.8183 - val_loss: 0.3727 - val_accuracy: 0.8759\n",
            "Epoch 4/10\n",
            "15000/15000 [==============================] - 3s 183us/step - loss: 0.4229 - accuracy: 0.8284 - val_loss: 0.3664 - val_accuracy: 0.8701\n",
            "Epoch 5/10\n",
            "15000/15000 [==============================] - 3s 184us/step - loss: 0.4020 - accuracy: 0.8377 - val_loss: 0.3599 - val_accuracy: 0.8730\n",
            "Epoch 6/10\n",
            "15000/15000 [==============================] - 3s 186us/step - loss: 0.3917 - accuracy: 0.8437 - val_loss: 0.3545 - val_accuracy: 0.8817\n",
            "Epoch 7/10\n",
            "15000/15000 [==============================] - 3s 182us/step - loss: 0.3772 - accuracy: 0.8513 - val_loss: 0.3557 - val_accuracy: 0.8800\n",
            "Epoch 8/10\n",
            "15000/15000 [==============================] - 3s 188us/step - loss: 0.3671 - accuracy: 0.8561 - val_loss: 0.3605 - val_accuracy: 0.8806\n",
            "Epoch 9/10\n",
            "15000/15000 [==============================] - 3s 186us/step - loss: 0.3623 - accuracy: 0.8576 - val_loss: 0.3761 - val_accuracy: 0.8810\n",
            "Epoch 10/10\n",
            "15000/15000 [==============================] - 3s 206us/step - loss: 0.3660 - accuracy: 0.8589 - val_loss: 0.3701 - val_accuracy: 0.8795\n",
            "Best Parameters: {'n_neurons': 32, 'rate': 0.2}\n",
            "CV Score: 0.8709999918937683\n",
            "Best Estimator: <keras.wrappers.scikit_learn.KerasClassifier object at 0x7fd76dfbfe48>\n",
            "25000/25000 [==============================] - 5s 191us/step\n",
            "Test Score: 0.8711599707603455\n"
          ],
          "name": "stdout"
        }
      ]
    },
    {
      "cell_type": "code",
      "metadata": {
        "id": "Y0OAswdQTTPe",
        "colab_type": "code",
        "outputId": "ca2ffe75-051e-4ba5-9f61-18275e0062fc",
        "colab": {
          "base_uri": "https://localhost:8080/",
          "height": 1000
        }
      },
      "source": [
        "\n",
        "import keras\n",
        "from sklearn.model_selection import GridSearchCV\n",
        "def build_model(n_hidden=2, n_neurons=16):\n",
        "    classifier = models.Sequential()\n",
        "    classifier.add(layers.Dense(16,activation='relu', input_shape=(10000,)))\n",
        "    \n",
        "    for i in range(n_hidden):\n",
        "        n_neurons=int(n_neurons/(i+1))\n",
        "       \n",
        "        classifier.add(layers.Dense(n_neurons, activation='relu'))\n",
        "        classifier.add(layers.Dense(1, activation='sigmoid'))\n",
        "        # Compile model\n",
        "        classifier.compile(optimizer='rmsprop', loss='binary_crossentropy', metrics=['accuracy'])\n",
        "    return classifier\n",
        "\n",
        "param_distribs = {\n",
        "    #\"rate\" :[0.2,0.4],\n",
        "    #'Optimizer':['adam','rmsprop']\n",
        "    'n_neurons':[16,32,64]\n",
        "}\n",
        "from keras.wrappers.scikit_learn import KerasClassifier\n",
        "keras_model =  KerasClassifier(build_fn = build_model)\n",
        "grid_search_cv = GridSearchCV(keras_model, param_distribs, cv=3, verbose=2)\n",
        "grid_search_cv.fit(partial_x_train, partial_y_train, epochs=10, validation_data=(x_val, y_val), callbacks=[keras.callbacks.EarlyStopping(patience=10)])\n",
        "print(\"Best Parameters:\",grid_search_cv.best_params_)\n",
        "print(\"CV Score:\",grid_search_cv.best_score_)\n",
        "print(\"Best Estimator:\",grid_search_cv.best_estimator_)\n",
        "print(\"Test Score:\", grid_search_cv.score(x_test,y_test))"
      ],
      "execution_count": 0,
      "outputs": [
        {
          "output_type": "stream",
          "text": [
            "Fitting 3 folds for each of 3 candidates, totalling 9 fits\n",
            "[CV] n_neurons=16 ....................................................\n"
          ],
          "name": "stdout"
        },
        {
          "output_type": "stream",
          "text": [
            "[Parallel(n_jobs=1)]: Using backend SequentialBackend with 1 concurrent workers.\n"
          ],
          "name": "stderr"
        },
        {
          "output_type": "stream",
          "text": [
            "Train on 10000 samples, validate on 10000 samples\n",
            "Epoch 1/10\n",
            "10000/10000 [==============================] - 2s 243us/step - loss: 0.6289 - accuracy: 0.7692 - val_loss: 0.5598 - val_accuracy: 0.8793\n",
            "Epoch 2/10\n",
            "10000/10000 [==============================] - 2s 214us/step - loss: 0.4697 - accuracy: 0.9162 - val_loss: 0.4477 - val_accuracy: 0.8776\n",
            "Epoch 3/10\n",
            "10000/10000 [==============================] - 2s 197us/step - loss: 0.3399 - accuracy: 0.9444 - val_loss: 0.4299 - val_accuracy: 0.8739\n",
            "Epoch 4/10\n",
            "10000/10000 [==============================] - 2s 201us/step - loss: 0.2676 - accuracy: 0.9550 - val_loss: 0.4304 - val_accuracy: 0.8654\n",
            "Epoch 5/10\n",
            "10000/10000 [==============================] - 2s 198us/step - loss: 0.2196 - accuracy: 0.9611 - val_loss: 0.4346 - val_accuracy: 0.8635\n",
            "Epoch 6/10\n",
            "10000/10000 [==============================] - 2s 202us/step - loss: 0.1786 - accuracy: 0.9703 - val_loss: 0.4347 - val_accuracy: 0.8570\n",
            "Epoch 7/10\n",
            "10000/10000 [==============================] - 2s 219us/step - loss: 0.1520 - accuracy: 0.9729 - val_loss: 0.4558 - val_accuracy: 0.8559\n",
            "Epoch 8/10\n",
            "10000/10000 [==============================] - 2s 209us/step - loss: 0.1329 - accuracy: 0.9741 - val_loss: 0.4858 - val_accuracy: 0.8522\n",
            "Epoch 9/10\n",
            "10000/10000 [==============================] - 2s 208us/step - loss: 0.1159 - accuracy: 0.9773 - val_loss: 0.5536 - val_accuracy: 0.8489\n",
            "Epoch 10/10\n",
            "10000/10000 [==============================] - 2s 197us/step - loss: 0.1036 - accuracy: 0.9796 - val_loss: 0.5266 - val_accuracy: 0.8461\n",
            "5000/5000 [==============================] - 0s 59us/step\n",
            "[CV] ..................................... n_neurons=16, total=  22.1s\n",
            "[CV] n_neurons=16 ....................................................\n"
          ],
          "name": "stdout"
        },
        {
          "output_type": "stream",
          "text": [
            "[Parallel(n_jobs=1)]: Done   1 out of   1 | elapsed:   22.1s remaining:    0.0s\n"
          ],
          "name": "stderr"
        },
        {
          "output_type": "stream",
          "text": [
            "Train on 10000 samples, validate on 10000 samples\n",
            "Epoch 1/10\n",
            "10000/10000 [==============================] - 2s 216us/step - loss: 0.5924 - accuracy: 0.7637 - val_loss: 0.5086 - val_accuracy: 0.8745\n",
            "Epoch 2/10\n",
            "10000/10000 [==============================] - 2s 202us/step - loss: 0.4200 - accuracy: 0.9193 - val_loss: 0.4366 - val_accuracy: 0.8656\n",
            "Epoch 3/10\n",
            "10000/10000 [==============================] - 2s 204us/step - loss: 0.3206 - accuracy: 0.9411 - val_loss: 0.4234 - val_accuracy: 0.8630\n",
            "Epoch 4/10\n",
            "10000/10000 [==============================] - 2s 202us/step - loss: 0.2589 - accuracy: 0.9528 - val_loss: 0.4368 - val_accuracy: 0.8606\n",
            "Epoch 5/10\n",
            "10000/10000 [==============================] - 2s 205us/step - loss: 0.2102 - accuracy: 0.9628 - val_loss: 0.4573 - val_accuracy: 0.8551\n",
            "Epoch 6/10\n",
            "10000/10000 [==============================] - 2s 204us/step - loss: 0.1788 - accuracy: 0.9657 - val_loss: 0.4748 - val_accuracy: 0.8526\n",
            "Epoch 7/10\n",
            "10000/10000 [==============================] - 2s 232us/step - loss: 0.1542 - accuracy: 0.9701 - val_loss: 0.5408 - val_accuracy: 0.8440\n",
            "Epoch 8/10\n",
            "10000/10000 [==============================] - 2s 206us/step - loss: 0.1427 - accuracy: 0.9687 - val_loss: 0.5536 - val_accuracy: 0.8418\n",
            "Epoch 9/10\n",
            "10000/10000 [==============================] - 2s 197us/step - loss: 0.1275 - accuracy: 0.9717 - val_loss: 0.5330 - val_accuracy: 0.8385\n",
            "Epoch 10/10\n",
            "10000/10000 [==============================] - 2s 198us/step - loss: 0.1198 - accuracy: 0.9725 - val_loss: 0.5778 - val_accuracy: 0.8353\n",
            "5000/5000 [==============================] - 0s 58us/step\n",
            "[CV] ..................................... n_neurons=16, total=  21.8s\n",
            "[CV] n_neurons=16 ....................................................\n",
            "Train on 10000 samples, validate on 10000 samples\n",
            "Epoch 1/10\n",
            "10000/10000 [==============================] - 2s 211us/step - loss: 0.6135 - accuracy: 0.7315 - val_loss: 0.5389 - val_accuracy: 0.8820\n",
            "Epoch 2/10\n",
            "10000/10000 [==============================] - 2s 204us/step - loss: 0.4400 - accuracy: 0.9180 - val_loss: 0.4153 - val_accuracy: 0.8804\n",
            "Epoch 3/10\n",
            "10000/10000 [==============================] - 2s 208us/step - loss: 0.2924 - accuracy: 0.9432 - val_loss: 0.3567 - val_accuracy: 0.8734\n",
            "Epoch 4/10\n",
            "10000/10000 [==============================] - 2s 206us/step - loss: 0.1930 - accuracy: 0.9588 - val_loss: 0.3483 - val_accuracy: 0.8744\n",
            "Epoch 5/10\n",
            "10000/10000 [==============================] - 2s 209us/step - loss: 0.1344 - accuracy: 0.9679 - val_loss: 0.3708 - val_accuracy: 0.8735\n",
            "Epoch 6/10\n",
            "10000/10000 [==============================] - 2s 210us/step - loss: 0.1042 - accuracy: 0.9747 - val_loss: 0.3991 - val_accuracy: 0.8719\n",
            "Epoch 7/10\n",
            "10000/10000 [==============================] - 2s 211us/step - loss: 0.0820 - accuracy: 0.9810 - val_loss: 0.4544 - val_accuracy: 0.8647\n",
            "Epoch 8/10\n",
            "10000/10000 [==============================] - 2s 199us/step - loss: 0.0651 - accuracy: 0.9860 - val_loss: 0.4699 - val_accuracy: 0.8655\n",
            "Epoch 9/10\n",
            "10000/10000 [==============================] - 2s 196us/step - loss: 0.0573 - accuracy: 0.9875 - val_loss: 0.5382 - val_accuracy: 0.8600\n",
            "Epoch 10/10\n",
            "10000/10000 [==============================] - 2s 195us/step - loss: 0.0477 - accuracy: 0.9904 - val_loss: 0.5509 - val_accuracy: 0.8596\n",
            "5000/5000 [==============================] - 0s 53us/step\n",
            "[CV] ..................................... n_neurons=16, total=  21.6s\n",
            "[CV] n_neurons=32 ....................................................\n",
            "Train on 10000 samples, validate on 10000 samples\n",
            "Epoch 1/10\n",
            "10000/10000 [==============================] - 2s 202us/step - loss: 0.5902 - accuracy: 0.7776 - val_loss: 0.4796 - val_accuracy: 0.8729\n",
            "Epoch 2/10\n",
            "10000/10000 [==============================] - 2s 189us/step - loss: 0.3564 - accuracy: 0.9232 - val_loss: 0.3505 - val_accuracy: 0.8796\n",
            "Epoch 3/10\n",
            "10000/10000 [==============================] - 2s 192us/step - loss: 0.2077 - accuracy: 0.9473 - val_loss: 0.3696 - val_accuracy: 0.8587\n",
            "Epoch 4/10\n",
            "10000/10000 [==============================] - 2s 194us/step - loss: 0.1447 - accuracy: 0.9625 - val_loss: 0.3672 - val_accuracy: 0.8744\n",
            "Epoch 5/10\n",
            "10000/10000 [==============================] - 2s 197us/step - loss: 0.1075 - accuracy: 0.9735 - val_loss: 0.4080 - val_accuracy: 0.8727\n",
            "Epoch 6/10\n",
            "10000/10000 [==============================] - 2s 200us/step - loss: 0.0886 - accuracy: 0.9795 - val_loss: 0.4468 - val_accuracy: 0.8655\n",
            "Epoch 7/10\n",
            "10000/10000 [==============================] - 2s 207us/step - loss: 0.0718 - accuracy: 0.9832 - val_loss: 0.4909 - val_accuracy: 0.8650\n",
            "Epoch 8/10\n",
            "10000/10000 [==============================] - 2s 215us/step - loss: 0.0587 - accuracy: 0.9877 - val_loss: 0.5105 - val_accuracy: 0.8652\n",
            "Epoch 9/10\n",
            "10000/10000 [==============================] - 2s 207us/step - loss: 0.0476 - accuracy: 0.9898 - val_loss: 0.5585 - val_accuracy: 0.8589\n",
            "Epoch 10/10\n",
            "10000/10000 [==============================] - 2s 216us/step - loss: 0.0397 - accuracy: 0.9928 - val_loss: 0.5870 - val_accuracy: 0.8605\n",
            "5000/5000 [==============================] - 0s 61us/step\n",
            "[CV] ..................................... n_neurons=32, total=  21.3s\n",
            "[CV] n_neurons=32 ....................................................\n",
            "Train on 10000 samples, validate on 10000 samples\n",
            "Epoch 1/10\n",
            "10000/10000 [==============================] - 2s 219us/step - loss: 0.5735 - accuracy: 0.7860 - val_loss: 0.4568 - val_accuracy: 0.8732\n",
            "Epoch 2/10\n",
            "10000/10000 [==============================] - 2s 215us/step - loss: 0.3388 - accuracy: 0.9203 - val_loss: 0.3544 - val_accuracy: 0.8751\n",
            "Epoch 3/10\n",
            "10000/10000 [==============================] - 2s 198us/step - loss: 0.2041 - accuracy: 0.9466 - val_loss: 0.3488 - val_accuracy: 0.8732\n",
            "Epoch 4/10\n",
            "10000/10000 [==============================] - 2s 196us/step - loss: 0.1413 - accuracy: 0.9614 - val_loss: 0.3834 - val_accuracy: 0.8664\n",
            "Epoch 5/10\n",
            "10000/10000 [==============================] - 2s 194us/step - loss: 0.1080 - accuracy: 0.9716 - val_loss: 0.4170 - val_accuracy: 0.8639\n",
            "Epoch 6/10\n",
            "10000/10000 [==============================] - 2s 198us/step - loss: 0.0850 - accuracy: 0.9790 - val_loss: 0.4498 - val_accuracy: 0.8669\n",
            "Epoch 7/10\n",
            "10000/10000 [==============================] - 2s 193us/step - loss: 0.0685 - accuracy: 0.9840 - val_loss: 0.5004 - val_accuracy: 0.8612\n",
            "Epoch 8/10\n",
            "10000/10000 [==============================] - 2s 201us/step - loss: 0.0601 - accuracy: 0.9855 - val_loss: 0.5371 - val_accuracy: 0.8585\n",
            "Epoch 9/10\n",
            "10000/10000 [==============================] - 2s 200us/step - loss: 0.0493 - accuracy: 0.9895 - val_loss: 0.5821 - val_accuracy: 0.8561\n",
            "Epoch 10/10\n",
            "10000/10000 [==============================] - 2s 203us/step - loss: 0.0420 - accuracy: 0.9922 - val_loss: 0.6312 - val_accuracy: 0.8528\n",
            "5000/5000 [==============================] - 0s 56us/step\n",
            "[CV] ..................................... n_neurons=32, total=  21.3s\n",
            "[CV] n_neurons=32 ....................................................\n",
            "Train on 10000 samples, validate on 10000 samples\n",
            "Epoch 1/10\n",
            "10000/10000 [==============================] - 2s 221us/step - loss: 0.5597 - accuracy: 0.7925 - val_loss: 0.4816 - val_accuracy: 0.8466\n",
            "Epoch 2/10\n",
            "10000/10000 [==============================] - 2s 205us/step - loss: 0.3496 - accuracy: 0.9191 - val_loss: 0.3693 - val_accuracy: 0.8683\n",
            "Epoch 3/10\n",
            "10000/10000 [==============================] - 2s 204us/step - loss: 0.2156 - accuracy: 0.9453 - val_loss: 0.3698 - val_accuracy: 0.8680\n",
            "Epoch 4/10\n",
            "10000/10000 [==============================] - 2s 208us/step - loss: 0.1452 - accuracy: 0.9624 - val_loss: 0.3790 - val_accuracy: 0.8694\n",
            "Epoch 5/10\n",
            "10000/10000 [==============================] - 2s 201us/step - loss: 0.1087 - accuracy: 0.9716 - val_loss: 0.4259 - val_accuracy: 0.8668\n",
            "Epoch 6/10\n",
            "10000/10000 [==============================] - 2s 198us/step - loss: 0.0861 - accuracy: 0.9797 - val_loss: 0.4683 - val_accuracy: 0.8576\n",
            "Epoch 7/10\n",
            "10000/10000 [==============================] - 2s 206us/step - loss: 0.0721 - accuracy: 0.9831 - val_loss: 0.5014 - val_accuracy: 0.8661\n",
            "Epoch 8/10\n",
            "10000/10000 [==============================] - 2s 213us/step - loss: 0.0600 - accuracy: 0.9870 - val_loss: 0.5518 - val_accuracy: 0.8589\n",
            "Epoch 9/10\n",
            "10000/10000 [==============================] - 2s 202us/step - loss: 0.0492 - accuracy: 0.9894 - val_loss: 0.5814 - val_accuracy: 0.8593\n",
            "Epoch 10/10\n",
            "10000/10000 [==============================] - 2s 198us/step - loss: 0.0440 - accuracy: 0.9915 - val_loss: 0.6267 - val_accuracy: 0.8583\n",
            "5000/5000 [==============================] - 0s 54us/step\n",
            "[CV] ..................................... n_neurons=32, total=  21.7s\n",
            "[CV] n_neurons=64 ....................................................\n",
            "Train on 10000 samples, validate on 10000 samples\n",
            "Epoch 1/10\n",
            "10000/10000 [==============================] - 2s 213us/step - loss: 0.5617 - accuracy: 0.8052 - val_loss: 0.4236 - val_accuracy: 0.8774\n",
            "Epoch 2/10\n",
            "10000/10000 [==============================] - 2s 209us/step - loss: 0.3019 - accuracy: 0.9182 - val_loss: 0.3413 - val_accuracy: 0.8734\n",
            "Epoch 3/10\n",
            "10000/10000 [==============================] - 2s 193us/step - loss: 0.1855 - accuracy: 0.9458 - val_loss: 0.3462 - val_accuracy: 0.8731\n",
            "Epoch 4/10\n",
            "10000/10000 [==============================] - 2s 194us/step - loss: 0.1363 - accuracy: 0.9617 - val_loss: 0.3713 - val_accuracy: 0.8735\n",
            "Epoch 5/10\n",
            "10000/10000 [==============================] - 2s 213us/step - loss: 0.1055 - accuracy: 0.9723 - val_loss: 0.4003 - val_accuracy: 0.8754\n",
            "Epoch 6/10\n",
            "10000/10000 [==============================] - 2s 202us/step - loss: 0.0810 - accuracy: 0.9799 - val_loss: 0.4436 - val_accuracy: 0.8744\n",
            "Epoch 7/10\n",
            "10000/10000 [==============================] - 2s 190us/step - loss: 0.0677 - accuracy: 0.9843 - val_loss: 0.4887 - val_accuracy: 0.8673\n",
            "Epoch 8/10\n",
            "10000/10000 [==============================] - 2s 190us/step - loss: 0.0546 - accuracy: 0.9886 - val_loss: 0.5312 - val_accuracy: 0.8657\n",
            "Epoch 9/10\n",
            "10000/10000 [==============================] - 2s 206us/step - loss: 0.0448 - accuracy: 0.9905 - val_loss: 0.5769 - val_accuracy: 0.8618\n",
            "Epoch 10/10\n",
            "10000/10000 [==============================] - 2s 197us/step - loss: 0.0369 - accuracy: 0.9923 - val_loss: 0.6280 - val_accuracy: 0.8603\n",
            "5000/5000 [==============================] - 0s 56us/step\n",
            "[CV] ..................................... n_neurons=64, total=  21.2s\n",
            "[CV] n_neurons=64 ....................................................\n",
            "Train on 10000 samples, validate on 10000 samples\n",
            "Epoch 1/10\n",
            "10000/10000 [==============================] - 2s 199us/step - loss: 0.5575 - accuracy: 0.7797 - val_loss: 0.4369 - val_accuracy: 0.8673\n",
            "Epoch 2/10\n",
            "10000/10000 [==============================] - 2s 200us/step - loss: 0.3145 - accuracy: 0.9182 - val_loss: 0.3768 - val_accuracy: 0.8664\n",
            "Epoch 3/10\n",
            "10000/10000 [==============================] - 2s 202us/step - loss: 0.1903 - accuracy: 0.9462 - val_loss: 0.3536 - val_accuracy: 0.8713\n",
            "Epoch 4/10\n",
            "10000/10000 [==============================] - 2s 188us/step - loss: 0.1332 - accuracy: 0.9634 - val_loss: 0.4047 - val_accuracy: 0.8587\n",
            "Epoch 5/10\n",
            "10000/10000 [==============================] - 2s 186us/step - loss: 0.1011 - accuracy: 0.9738 - val_loss: 0.4569 - val_accuracy: 0.8549\n",
            "Epoch 6/10\n",
            "10000/10000 [==============================] - 2s 198us/step - loss: 0.0760 - accuracy: 0.9812 - val_loss: 0.4841 - val_accuracy: 0.8644\n",
            "Epoch 7/10\n",
            "10000/10000 [==============================] - 2s 189us/step - loss: 0.0582 - accuracy: 0.9868 - val_loss: 0.5104 - val_accuracy: 0.8636\n",
            "Epoch 8/10\n",
            "10000/10000 [==============================] - 2s 197us/step - loss: 0.0452 - accuracy: 0.9905 - val_loss: 0.5857 - val_accuracy: 0.8608\n",
            "Epoch 9/10\n",
            "10000/10000 [==============================] - 2s 200us/step - loss: 0.0355 - accuracy: 0.9934 - val_loss: 0.6360 - val_accuracy: 0.8604\n",
            "Epoch 10/10\n",
            "10000/10000 [==============================] - 2s 188us/step - loss: 0.0309 - accuracy: 0.9943 - val_loss: 0.7201 - val_accuracy: 0.8587\n",
            "5000/5000 [==============================] - 0s 54us/step\n",
            "[CV] ..................................... n_neurons=64, total=  20.6s\n",
            "[CV] n_neurons=64 ....................................................\n",
            "Train on 10000 samples, validate on 10000 samples\n",
            "Epoch 1/10\n",
            "10000/10000 [==============================] - 2s 211us/step - loss: 0.5956 - accuracy: 0.7738 - val_loss: 0.4856 - val_accuracy: 0.8764\n",
            "Epoch 2/10\n",
            "10000/10000 [==============================] - 2s 196us/step - loss: 0.3675 - accuracy: 0.9198 - val_loss: 0.3904 - val_accuracy: 0.8690\n",
            "Epoch 3/10\n",
            "10000/10000 [==============================] - 2s 196us/step - loss: 0.2167 - accuracy: 0.9464 - val_loss: 0.3672 - val_accuracy: 0.8724\n",
            "Epoch 4/10\n",
            "10000/10000 [==============================] - 2s 199us/step - loss: 0.1458 - accuracy: 0.9627 - val_loss: 0.3873 - val_accuracy: 0.8739\n",
            "Epoch 5/10\n",
            "10000/10000 [==============================] - 2s 201us/step - loss: 0.1061 - accuracy: 0.9741 - val_loss: 0.4286 - val_accuracy: 0.8672\n",
            "Epoch 6/10\n",
            "10000/10000 [==============================] - 2s 198us/step - loss: 0.0829 - accuracy: 0.9807 - val_loss: 0.4634 - val_accuracy: 0.8670\n",
            "Epoch 7/10\n",
            "10000/10000 [==============================] - 2s 208us/step - loss: 0.0682 - accuracy: 0.9850 - val_loss: 0.5201 - val_accuracy: 0.8636\n",
            "Epoch 8/10\n",
            "10000/10000 [==============================] - 2s 206us/step - loss: 0.0565 - accuracy: 0.9873 - val_loss: 0.5427 - val_accuracy: 0.8625\n",
            "Epoch 9/10\n",
            "10000/10000 [==============================] - 2s 205us/step - loss: 0.0473 - accuracy: 0.9902 - val_loss: 0.6285 - val_accuracy: 0.8573\n",
            "Epoch 10/10\n",
            "10000/10000 [==============================] - 2s 205us/step - loss: 0.0423 - accuracy: 0.9915 - val_loss: 0.6351 - val_accuracy: 0.8552\n",
            "5000/5000 [==============================] - 0s 60us/step\n",
            "[CV] ..................................... n_neurons=64, total=  21.8s\n"
          ],
          "name": "stdout"
        },
        {
          "output_type": "stream",
          "text": [
            "[Parallel(n_jobs=1)]: Done   9 out of   9 | elapsed:  3.2min finished\n"
          ],
          "name": "stderr"
        },
        {
          "output_type": "stream",
          "text": [
            "Train on 15000 samples, validate on 10000 samples\n",
            "Epoch 1/10\n",
            "15000/15000 [==============================] - 3s 201us/step - loss: 0.5272 - accuracy: 0.8122 - val_loss: 0.3752 - val_accuracy: 0.8775\n",
            "Epoch 2/10\n",
            "15000/15000 [==============================] - 3s 188us/step - loss: 0.2656 - accuracy: 0.9172 - val_loss: 0.3167 - val_accuracy: 0.8809\n",
            "Epoch 3/10\n",
            "15000/15000 [==============================] - 3s 187us/step - loss: 0.1874 - accuracy: 0.9411 - val_loss: 0.3603 - val_accuracy: 0.8723\n",
            "Epoch 4/10\n",
            "15000/15000 [==============================] - 3s 189us/step - loss: 0.1470 - accuracy: 0.9556 - val_loss: 0.3508 - val_accuracy: 0.8788\n",
            "Epoch 5/10\n",
            "15000/15000 [==============================] - 3s 189us/step - loss: 0.1229 - accuracy: 0.9641 - val_loss: 0.3679 - val_accuracy: 0.8772\n",
            "Epoch 6/10\n",
            "15000/15000 [==============================] - 3s 171us/step - loss: 0.1027 - accuracy: 0.9717 - val_loss: 0.4013 - val_accuracy: 0.8763\n",
            "Epoch 7/10\n",
            "15000/15000 [==============================] - 3s 173us/step - loss: 0.0871 - accuracy: 0.9759 - val_loss: 0.4166 - val_accuracy: 0.8746\n",
            "Epoch 8/10\n",
            "15000/15000 [==============================] - 3s 178us/step - loss: 0.0732 - accuracy: 0.9820 - val_loss: 0.4550 - val_accuracy: 0.8736\n",
            "Epoch 9/10\n",
            "15000/15000 [==============================] - 3s 173us/step - loss: 0.0622 - accuracy: 0.9852 - val_loss: 0.4886 - val_accuracy: 0.8703\n",
            "Epoch 10/10\n",
            "15000/15000 [==============================] - 3s 175us/step - loss: 0.0549 - accuracy: 0.9874 - val_loss: 0.5212 - val_accuracy: 0.8646\n"
          ],
          "name": "stdout"
        },
        {
          "output_type": "execute_result",
          "data": {
            "text/plain": [
              "GridSearchCV(cv=3, error_score=nan,\n",
              "             estimator=<keras.wrappers.scikit_learn.KerasClassifier object at 0x7fd770bbd400>,\n",
              "             iid='deprecated', n_jobs=None,\n",
              "             param_grid={'n_neurons': [16, 32, 64]}, pre_dispatch='2*n_jobs',\n",
              "             refit=True, return_train_score=False, scoring=None, verbose=2)"
            ]
          },
          "metadata": {
            "tags": []
          },
          "execution_count": 59
        }
      ]
    },
    {
      "cell_type": "code",
      "metadata": {
        "id": "8NMkYjSHN2Lb",
        "colab_type": "code",
        "outputId": "b4a0b77d-7b3f-413a-8e96-0f968a22f424",
        "colab": {
          "base_uri": "https://localhost:8080/",
          "height": 35
        }
      },
      "source": [
        "grid_search_cv.best_params_"
      ],
      "execution_count": 0,
      "outputs": [
        {
          "output_type": "execute_result",
          "data": {
            "text/plain": [
              "{'n_neurons': 32}"
            ]
          },
          "metadata": {
            "tags": []
          },
          "execution_count": 60
        }
      ]
    },
    {
      "cell_type": "code",
      "metadata": {
        "id": "wultG9lMN3Sb",
        "colab_type": "code",
        "outputId": "d234eafb-a374-48ab-e2b6-a19b429618bd",
        "colab": {
          "base_uri": "https://localhost:8080/",
          "height": 35
        }
      },
      "source": [
        "grid_search_cv.best_score_"
      ],
      "execution_count": 0,
      "outputs": [
        {
          "output_type": "execute_result",
          "data": {
            "text/plain": [
              "0.8574666579564413"
            ]
          },
          "metadata": {
            "tags": []
          },
          "execution_count": 61
        }
      ]
    },
    {
      "cell_type": "code",
      "metadata": {
        "id": "7ikW9t9cN5ji",
        "colab_type": "code",
        "outputId": "626c777f-ee97-474c-9d94-f314e1d5921b",
        "colab": {
          "base_uri": "https://localhost:8080/",
          "height": 35
        }
      },
      "source": [
        "grid_search_cv.best_estimator_"
      ],
      "execution_count": 0,
      "outputs": [
        {
          "output_type": "execute_result",
          "data": {
            "text/plain": [
              "<keras.wrappers.scikit_learn.KerasClassifier at 0x7fd76fed9198>"
            ]
          },
          "metadata": {
            "tags": []
          },
          "execution_count": 62
        }
      ]
    },
    {
      "cell_type": "code",
      "metadata": {
        "id": "x3AiPeVfN7hP",
        "colab_type": "code",
        "outputId": "d8de83fb-d510-45af-99c5-d15f391ec22d",
        "colab": {
          "base_uri": "https://localhost:8080/",
          "height": 52
        }
      },
      "source": [
        "grid_search_cv.score(x_test,y_test)"
      ],
      "execution_count": 0,
      "outputs": [
        {
          "output_type": "stream",
          "text": [
            "25000/25000 [==============================] - 4s 145us/step\n"
          ],
          "name": "stdout"
        },
        {
          "output_type": "execute_result",
          "data": {
            "text/plain": [
              "0.84552001953125"
            ]
          },
          "metadata": {
            "tags": []
          },
          "execution_count": 63
        }
      ]
    }
  ]
}